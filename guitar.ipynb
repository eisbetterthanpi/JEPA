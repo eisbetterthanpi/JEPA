{
  "nbformat": 4,
  "nbformat_minor": 0,
  "metadata": {
    "colab": {
      "provenance": [],
      "include_colab_link": true
    },
    "kernelspec": {
      "name": "python3",
      "display_name": "Python 3"
    },
    "language_info": {
      "name": "python"
    }
  },
  "cells": [
    {
      "cell_type": "markdown",
      "metadata": {
        "id": "view-in-github",
        "colab_type": "text"
      },
      "source": [
        "<a href=\"https://colab.research.google.com/github/eisbetterthanpi/JEPA/blob/main/guitar.ipynb\" target=\"_parent\"><img src=\"https://colab.research.google.com/assets/colab-badge.svg\" alt=\"Open In Colab\"/></a>"
      ]
    },
    {
      "cell_type": "code",
      "source": [
        "# !pip install perceiver-io[text,vision,audio]\n",
        "# !pip install perceiver-io[audio]\n",
        "!pip install perceiver-io audio\n",
        "\n",
        "# !apt update && apt install -y fluidsynth\n"
      ],
      "metadata": {
        "id": "pkALg2ywgk1Y"
      },
      "execution_count": null,
      "outputs": []
    },
    {
      "cell_type": "code",
      "execution_count": null,
      "metadata": {
        "id": "HvarYtPMfgcz"
      },
      "outputs": [],
      "source": [
        "\n",
        "# https://github.com/krasserm/perceiver-io\n",
        "from transformers import pipeline\n",
        "from pretty_midi import PrettyMIDI\n",
        "from perceiver.model.audio import symbolic  # auto-class registration\n",
        "\n",
        "# https://huggingface.co/krasserm/perceiver-ar-sam-giant-midi\n",
        "repo_id = \"krasserm/perceiver-ar-sam-giant-midi\"\n",
        "audio_generator = pipeline(\"symbolic-audio-generation\", model=repo_id)\n",
        "\n",
        "prompt = PrettyMIDI(\"prompt.mid\")\n",
        "output = audio_generator(prompt, max_new_tokens=64, num_latents=1, do_sample=True, top_p=0.95, temperature=1.0, render=True)\n",
        "\n",
        "with open(\"generated_audio.wav\", \"wb\") as f:\n",
        "    f.write(output[\"generated_audio_wav\"])\n"
      ]
    },
    {
      "cell_type": "code",
      "source": [
        "import IPython\n",
        "from perceiver.model.audio import symbolic  # auto-class registration\n",
        "from pretty_midi import PrettyMIDI\n",
        "# https://colab.research.google.com/github/krasserm/perceiver-io/blob/main/examples/inference.ipynb#scrollTo=AZAN_Jq4UzKN\n",
        "\n",
        "\n",
        "# 134M parameters and was trained with a context of 4096 prefix tokens and 2048 latent tokens for 27 epochs (157M tokens per epoch) on the GiantMIDI-Piano dataset\n",
        "\n",
        "# tokenization method in Section A.2 of # music transformer, jbchorals # https://arxiv.org/pdf/1809.04281\n",
        "# midi processor from # https://github.com/jason9693/midi-neural-processor/blob/master/processor.py\n",
        "\n",
        "\n",
        "# midi prompt\n",
        "res = requests.get(\"https://martin-krasser.com/perceiver/data/midi/prompt.mid\")\n",
        "with open(\"prompt.mid\", \"wb\") as f:\n",
        "    f.write(res.content)\n",
        "\n",
        "# soundfont used to render the generated MIDI symbols into WAV format\n",
        "res = requests.get(\"https://martin-krasser.com/perceiver/data/midi/SGM-v2.01-NicePianosGuitarsBass-V1.2.sf2\")\n",
        "with open(\"SGM-v2.01-NicePianosGuitarsBass-V1.2.sf2\", \"wb\") as f:\n",
        "    f.write(res.content)\n"
      ],
      "metadata": {
        "id": "C4sqEt8tVUqe"
      },
      "execution_count": null,
      "outputs": []
    },
    {
      "cell_type": "code",
      "source": [
        "\n",
        "audio_generator = pipeline(\"symbolic-audio-generation\", model=\"krasserm/perceiver-ar-sam-giant-midi\", device=\"cuda:0\")\n",
        "\n",
        "prompt = PrettyMIDI(\"prompt.mid\")\n",
        "# generated sequence starts at timestamp 14s\n",
        "output = audio_generator(prompt, max_new_tokens=1024, max_prompt_length=256, num_latents=1, do_sample=True,\n",
        "    top_p=0.95, temperature=1.0, return_full_audio=True, render=True, sf2_path=\"SGM-v2.01-NicePianosGuitarsBass-V1.2.sf2\")\n",
        "\n",
        "output = audio_generator(prompt, max_new_tokens=1024, max_prompt_length=4096, num_latents=1, do_sample=True,\n",
        "    top_p=0.95, temperature=1.0, return_full_audio=False, render=True, sf2_path=\"SGM-v2.01-NicePianosGuitarsBass-V1.2.sf2\")\n",
        "# return_full_audio=True: generated sequence is appended to the prompt\n",
        "# The initial number of latent positions is set to `1` corresponding to the last `1` token of the prompt sequence\n",
        "\n",
        "with open(\"out.wav\", \"wb\") as f:\n",
        "    f.write(output[\"generated_audio_wav\"])\n",
        "\n",
        "IPython.display.Audio(\"out.wav\")\n"
      ],
      "metadata": {
        "id": "i9J3QtxmV_85"
      },
      "execution_count": null,
      "outputs": []
    },
    {
      "cell_type": "code",
      "source": [
        "# @title training\n",
        "\n",
        "\n",
        "# https://github.com/krasserm/perceiver-io/blob/main/docs/training-examples.md#symbolic-audio-modeling\n",
        "\n",
        "\n",
        "\n",
        "\n"
      ],
      "metadata": {
        "id": "Otz0lM2Dqx43",
        "cellView": "form"
      },
      "execution_count": null,
      "outputs": []
    },
    {
      "cell_type": "code",
      "source": [
        "\n",
        "# https://huggingface.co/datasets/juancopi81/mutopia_guitar_dataset?row=0\n"
      ],
      "metadata": {
        "id": "4A-A-kobDzNy"
      },
      "execution_count": null,
      "outputs": []
    },
    {
      "cell_type": "code",
      "source": [
        "# @title guitarset\n",
        "import requests\n",
        "url = 'https://zenodo.org/records/3371780/files/annotation.zip?download=1'\n",
        "with open('annotation.zip', 'wb') as f:\n",
        "    f.write(requests.get(url).content)\n",
        "\n",
        "!unzip annotation.zip -d guitarset\n",
        "!pip install jams pretty_midi\n"
      ],
      "metadata": {
        "cellView": "form",
        "id": "XS0PiYA8muAd"
      },
      "execution_count": null,
      "outputs": []
    },
    {
      "cell_type": "code",
      "source": [
        "# @title jams_to_midi\n",
        "import jams\n",
        "import pretty_midi\n",
        "import numpy as np\n",
        "\n",
        "# https://github.com/marl/GuitarSet/blob/master/visualize/interpreter.py\n",
        "def jams_to_midi(jam, q=1):\n",
        "    # q = 1: with pitch bend. q = 0: without pitch bend.\n",
        "    midi = pretty_midi.PrettyMIDI()\n",
        "    annos = jam.search(namespace='note_midi')\n",
        "    if len(annos) == 0:\n",
        "        annos = jam.search(namespace='pitch_midi')\n",
        "    for anno in annos:\n",
        "        midi_ch = pretty_midi.Instrument(program=25) # https://en.wikipedia.org/wiki/General_MIDI\n",
        "        for note in anno:\n",
        "            # print(note)\n",
        "            pitch = int(round(note.value))\n",
        "            bend_amount = int(round((note.value - pitch) * 4096))\n",
        "            st = note.time\n",
        "            dur = note.duration\n",
        "            n = pretty_midi.Note(velocity=100 + np.random.choice(range(-5, 5)), pitch=pitch, start=st, end=st+dur)\n",
        "            # n = pretty_midi.Note(velocity= , pitch=pitch, start=st, end=st+dur)\n",
        "            pb = pretty_midi.PitchBend(pitch=bend_amount * q, time=st)\n",
        "            midi_ch.notes.append(n)\n",
        "            midi_ch.pitch_bends.append(pb)\n",
        "        if len(midi_ch.notes) != 0:\n",
        "            midi.instruments.append(midi_ch)\n",
        "    return midi\n",
        "\n",
        "import os\n",
        "directory = \"guitarset\"\n",
        "for i, filename in enumerate(os.listdir(directory)):\n",
        "    f = os.path.join(directory, filename)\n",
        "    print(f)\n",
        "    jam = jams.load(f)\n",
        "    midi = jams_to_midi(jam)\n",
        "    midi.write('midi{i}.mid'.format(i=i))\n",
        "    if i>4:\n",
        "        break\n"
      ],
      "metadata": {
        "id": "ps42p_Y-SGEz",
        "cellView": "form"
      },
      "execution_count": null,
      "outputs": []
    },
    {
      "cell_type": "code",
      "source": [
        "url = 'https://www.theguitarlesson.com/guitar-pro-tabs/category/a/a-perfect-circle/page/5/'\n",
        "out = requests.get(url).content\n",
        "print(out)\n"
      ],
      "metadata": {
        "id": "Yc0NVOHXSNdW"
      },
      "execution_count": null,
      "outputs": []
    },
    {
      "cell_type": "code",
      "source": [
        "# @title from selenium_house.ipynb\n",
        "from urllib.parse import unquote\n",
        "import re\n",
        "def get_imgurls(driver):\n",
        "    pro=driver.page_source\n",
        "    # pro=driver.execute_script(\"return document.documentElement.outerHTML\")\n",
        "    pro = unquote(pro)\n",
        "    pro = pro.encode().decode('unicode-escape') # try to remove \\\\u00\n",
        "    # pattern = r\"https://(?:(?!\\\").)*\\.jpg\" # start with https:// , no \" , end with .jpg # https://stackoverflow.com/a/67540659/13359815\n",
        "    pattern = r\"(?<=href=\\\"/imgres\\?imgurl=)(?:(?!&amp;).)*(?=&amp;)\" # start with href=\"/imgres?imgurl= , no &amp; , end with &amp; # https://stackoverflow.com/a/3926546/13359815\n",
        "    # pattern = r\"https://(?:(?!\\\").)*(?=\\\")\" # start with https:// , no \" , end with \" # all urls\n",
        "    # pattern = r\"(?<=\\],\\[\\\")https://(?:(?!\\\").)*(?=\\\")\" # start with ],[\" then https:// , no \" , end with \" # all imgs? fast\n",
        "    m = re.findall(pattern, pro)\n",
        "    return m\n",
        "\n",
        "\n",
        "from concurrent.futures import ThreadPoolExecutor\n",
        "import time\n",
        "for i in range(0, len(m), batch_size):\n",
        "    # i=0\n",
        "    print(i)\n",
        "    start = time.time()\n",
        "    # e = ThreadPoolExecutor(batch_size) # 19.788sec\n",
        "    e = ThreadPoolExecutor(min(batch_size, len(m))) # 21sec\n",
        "\n",
        "    # result = e.map(get_img, m[i*batch_size: min((i+1)*batch_size, len(m))])\n",
        "    # # result = e.map(get_img, m)\n",
        "    # result = list(filter(lambda item: item is not None, result))\n",
        "\n",
        "    # future = [e.submit(get_img, uuu) for uuu in m[i*batch_size: min((i+1)*batch_size, len(m))]]\n",
        "    future = [e.submit(get_img, uuu) for uuu in m[i: min(i+batch_size, len(m))]]\n",
        "    # result = [f.result() for f in future if f.result() is not None]\n",
        "    ulst = [f.result()[0] for f in future if f.result() is not None]\n",
        "    images = [f.result()[1] for f in future if f.result() is not None]\n",
        "    # imgidx = [i for i in range(len(future)) if future[i].result() is not None] # only use for indexing m\n",
        "    # print(len(ulst))\n",
        "\n",
        "    end = time.time()\n",
        "    print(end-start)\n",
        "    start=end\n"
      ],
      "metadata": {
        "cellView": "form",
        "id": "rVNw5g2CmB4B"
      },
      "execution_count": null,
      "outputs": []
    },
    {
      "cell_type": "code",
      "source": [
        "# @title all\n",
        "# url = 'https://www.theguitarlesson.com/guitar-pro-tabs/a/a-perfect-circle/judith-a-perfect-circle/'\n",
        "# url = 'https://www.theguitarlesson.com/guitar-pro-tabs/c/connells-the/74-75-2-connells-the/'\n",
        "# url = 'https://www.theguitarlesson.com/guitar-pro-tabs/c/connells-the/74-75-connells-the/'\n",
        "url = 'https://www.theguitarlesson.com/guitar-pro-tabs/0-9/31-minutos/tema-central-31-minutos/'\n",
        "out = requests.get(url).content\n",
        "print(out)\n",
        "# File Name:</strong> <a href=\"https://www.theguitarlesson.com/guitar-pro-tabs/song-files/A Perfect Circle - Judith.gp4\"\n",
        "\n",
        "from urllib.parse import unquote\n",
        "import re\n",
        "pro=out\n",
        "pro = unquote(pro)\n",
        "# pattern = r\"(?<=File Name:</strong> <a href=\\\"https://www.theguitarlesson.com/guitar-pro-tabs/song-files/)(?:(?!\\\").)*(?=\\\")\"\n",
        "pattern = r\"(?<=<a href=\\\"https://www.theguitarlesson.com/guitar-pro-tabs/song-files/)(?:(?!\\\").)*(?=\\\")\"\n",
        "m = re.findall(pattern, pro)\n",
        "print(m)\n",
        "if len(m)>1: m=max(m)\n",
        "else: m=m[0]\n",
        "gp_url = \"https://www.theguitarlesson.com/guitar-pro-tabs/song-files/\"+m\n",
        "print(gp_url)\n",
        "\n",
        "name,gpnum = m.split(' - ')[-1].split('.')\n",
        "name=name.replace(' ', '_')\n",
        "print(name)\n",
        "print(gpnum)\n",
        "\n",
        "# gp_url = 'https://www.theguitarlesson.com/guitar-pro-tabs/song-files/A Perfect Circle - Judith.gp4'\n",
        "# Connells (The) – 74-75.gp3\n",
        "# Connells (The) – 74-75 (2).gp3\n",
        "\n",
        "res = requests.get(gp_url)\n",
        "# print(out)\n",
        "with open(name+'.'+gpnum, \"wb\") as f:\n",
        "    f.write(res.content)\n",
        "\n",
        "!/content/GuitarProToMidi /content/{name}.{gpnum} -o /content/midi/{name}.mid\n"
      ],
      "metadata": {
        "colab": {
          "base_uri": "https://localhost:8080/"
        },
        "cellView": "form",
        "id": "54xsFtHdn0WU",
        "outputId": "5f87875d-4092-4af1-cbb8-ac3a45bdefb9"
      },
      "execution_count": null,
      "outputs": [
        {
          "output_type": "stream",
          "name": "stdout",
          "text": [
            "b'<!doctype html>\\n<html lang=\"en-US\" class=\"no-js\" itemtype=\"https://schema.org/Blog\" itemscope>\\n<head>\\n\\t<meta charset=\"UTF-8\">\\n\\t<meta name=\"viewport\" content=\"width=device-width, initial-scale=1, minimum-scale=1\">\\n\\t<meta name=\\'robots\\' content=\\'index, follow, max-image-preview:large, max-snippet:-1, max-video-preview:-1\\' />\\n \\n    <!-- Global site tag (gtag.js) - Google Analytics -->\\n    <script async src=\"https://www.googletagmanager.com/gtag/js?id=UA-5257838-7\"></script>\\n    <script>\\n      window.dataLayer = window.dataLayer || [];\\n      function gtag(){dataLayer.push(arguments);}\\n      gtag(\\'js\\', new Date());\\n\\n      gtag(\\'config\\', \\'UA-5257838-7\\');\\n    </script> \\n\\n\\t<!-- This site is optimized with the Yoast SEO plugin v22.2 - https://yoast.com/wordpress/plugins/seo/ -->\\n\\t<title>Tema Central - 31 Minutos - Guitar Pro Tabs</title>\\n\\t<link rel=\"canonical\" href=\"https://www.theguitarlesson.com/guitar-pro-tabs/0-9/31-minutos/tema-central-31-minutos/\" />\\n\\t<meta property=\"og:locale\" content=\"en_US\" />\\n\\t<meta property=\"og:type\" content=\"article\" />\\n\\t<meta property=\"og:title\" content=\"Tema Central - 31 Minutos - Guitar Pro Tabs\" />\\n\\t<meta property=\"og:description\" content=\"Guitar learning tips and advice: Understanding why you play what you play will really develop your guitar skills. Have a look at some guitar theory. Beginner guitarists require easy guitar lessons. If you want to learn easily and quickly, have a look at our free basic video guitar tutorials. More popular GP tabs from 31...\" />\\n\\t<meta property=\"og:url\" content=\"https://www.theguitarlesson.com/guitar-pro-tabs/0-9/31-minutos/tema-central-31-minutos/\" />\\n\\t<meta property=\"og:site_name\" content=\"Guitar Pro Tabs\" />\\n\\t<meta property=\"article:published_time\" content=\"1999-11-30T05:00:00+00:00\" />\\n\\t<meta property=\"og:image\" content=\"https://www.theguitarlesson.com/guitar-pro-tabs/guitar-pro-tab-download.jpg\" />\\n\\t<meta name=\"author\" content=\"admin\" />\\n\\t<meta name=\"twitter:label1\" content=\"Written by\" />\\n\\t<meta name=\"twitter:data1\" content=\"admin\" />\\n\\t<meta name=\"twitter:label2\" content=\"Est. reading time\" />\\n\\t<meta name=\"twitter:data2\" content=\"1 minute\" />\\n\\t<script type=\"application/ld+json\" class=\"yoast-schema-graph\">{\"@context\":\"https://schema.org\",\"@graph\":[{\"@type\":\"Article\",\"@id\":\"https://www.theguitarlesson.com/guitar-pro-tabs/0-9/31-minutos/tema-central-31-minutos/#article\",\"isPartOf\":{\"@id\":\"https://www.theguitarlesson.com/guitar-pro-tabs/0-9/31-minutos/tema-central-31-minutos/\"},\"author\":{\"name\":\"admin\",\"@id\":\"https://www.theguitarlesson.com/guitar-pro-tabs/#/schema/person/130325589d98a9c3de7b6a2ba2ebf5a5\"},\"headline\":\"Tema Central &#8211; 31 Minutos\",\"datePublished\":\"1999-11-30T05:00:00+00:00\",\"dateModified\":\"1999-11-30T05:00:00+00:00\",\"mainEntityOfPage\":{\"@id\":\"https://www.theguitarlesson.com/guitar-pro-tabs/0-9/31-minutos/tema-central-31-minutos/\"},\"wordCount\":140,\"commentCount\":0,\"publisher\":{\"@id\":\"https://www.theguitarlesson.com/guitar-pro-tabs/#organization\"},\"image\":{\"@id\":\"https://www.theguitarlesson.com/guitar-pro-tabs/0-9/31-minutos/tema-central-31-minutos/#primaryimage\"},\"thumbnailUrl\":\"https://www.theguitarlesson.com/guitar-pro-tabs/guitar-pro-tab-download.jpg\",\"articleSection\":[\"31 Minutos\"],\"inLanguage\":\"en-US\",\"potentialAction\":[{\"@type\":\"CommentAction\",\"name\":\"Comment\",\"target\":[\"https://www.theguitarlesson.com/guitar-pro-tabs/0-9/31-minutos/tema-central-31-minutos/#respond\"]}]},{\"@type\":\"WebPage\",\"@id\":\"https://www.theguitarlesson.com/guitar-pro-tabs/0-9/31-minutos/tema-central-31-minutos/\",\"url\":\"https://www.theguitarlesson.com/guitar-pro-tabs/0-9/31-minutos/tema-central-31-minutos/\",\"name\":\"Tema Central - 31 Minutos - Guitar Pro Tabs\",\"isPartOf\":{\"@id\":\"https://www.theguitarlesson.com/guitar-pro-tabs/#website\"},\"primaryImageOfPage\":{\"@id\":\"https://www.theguitarlesson.com/guitar-pro-tabs/0-9/31-minutos/tema-central-31-minutos/#primaryimage\"},\"image\":{\"@id\":\"https://www.theguitarlesson.com/guitar-pro-tabs/0-9/31-minutos/tema-central-31-minutos/#primaryimage\"},\"thumbnailUrl\":\"https://www.theguitarlesson.com/guitar-pro-tabs/guitar-pro-tab-download.jpg\",\"datePublished\":\"1999-11-30T05:00:00+00:00\",\"dateModified\":\"1999-11-30T05:00:00+00:00\",\"breadcrumb\":{\"@id\":\"https://www.theguitarlesson.com/guitar-pro-tabs/0-9/31-minutos/tema-central-31-minutos/#breadcrumb\"},\"inLanguage\":\"en-US\",\"potentialAction\":[{\"@type\":\"ReadAction\",\"target\":[\"https://www.theguitarlesson.com/guitar-pro-tabs/0-9/31-minutos/tema-central-31-minutos/\"]}]},{\"@type\":\"ImageObject\",\"inLanguage\":\"en-US\",\"@id\":\"https://www.theguitarlesson.com/guitar-pro-tabs/0-9/31-minutos/tema-central-31-minutos/#primaryimage\",\"url\":\"https://www.theguitarlesson.com/guitar-pro-tabs/guitar-pro-tab-download.jpg\",\"contentUrl\":\"https://www.theguitarlesson.com/guitar-pro-tabs/guitar-pro-tab-download.jpg\"},{\"@type\":\"BreadcrumbList\",\"@id\":\"https://www.theguitarlesson.com/guitar-pro-tabs/0-9/31-minutos/tema-central-31-minutos/#breadcrumb\",\"itemListElement\":[{\"@type\":\"ListItem\",\"position\":1,\"name\":\"Home\",\"item\":\"https://www.theguitarlesson.com/guitar-pro-tabs/\"},{\"@type\":\"ListItem\",\"position\":2,\"name\":\"Tema Central &#8211; 31 Minutos\"}]},{\"@type\":\"WebSite\",\"@id\":\"https://www.theguitarlesson.com/guitar-pro-tabs/#website\",\"url\":\"https://www.theguitarlesson.com/guitar-pro-tabs/\",\"name\":\"Guitar Pro Tabs\",\"description\":\"Free Guitar Pro song database\",\"publisher\":{\"@id\":\"https://www.theguitarlesson.com/guitar-pro-tabs/#organization\"},\"potentialAction\":[{\"@type\":\"SearchAction\",\"target\":{\"@type\":\"EntryPoint\",\"urlTemplate\":\"https://www.theguitarlesson.com/guitar-pro-tabs/?s={search_term_string}\"},\"query-input\":\"required name=search_term_string\"}],\"inLanguage\":\"en-US\"},{\"@type\":\"Organization\",\"@id\":\"https://www.theguitarlesson.com/guitar-pro-tabs/#organization\",\"name\":\"Guitar Pro Tabs\",\"url\":\"https://www.theguitarlesson.com/guitar-pro-tabs/\",\"logo\":{\"@type\":\"ImageObject\",\"inLanguage\":\"en-US\",\"@id\":\"https://www.theguitarlesson.com/guitar-pro-tabs/#/schema/logo/image/\",\"url\":\"https://www.theguitarlesson.com/guitar-pro-tabs/wp-content/uploads/2021/11/theguitarlesson-logo.png\",\"contentUrl\":\"https://www.theguitarlesson.com/guitar-pro-tabs/wp-content/uploads/2021/11/theguitarlesson-logo.png\",\"width\":131,\"height\":110,\"caption\":\"Guitar Pro Tabs\"},\"image\":{\"@id\":\"https://www.theguitarlesson.com/guitar-pro-tabs/#/schema/logo/image/\"}},{\"@type\":\"Person\",\"@id\":\"https://www.theguitarlesson.com/guitar-pro-tabs/#/schema/person/130325589d98a9c3de7b6a2ba2ebf5a5\",\"name\":\"admin\"}]}</script>\\n\\t<!-- / Yoast SEO plugin. -->\\n\\n\\n<link rel=\\'dns-prefetch\\' href=\\'//apis.google.com\\' />\\n<link rel=\\'dns-prefetch\\' href=\\'//fonts.googleapis.com\\' />\\n\\t\\t\\t<script>document.documentElement.classList.remove( \\'no-js\\' );</script>\\n\\t\\t\\t<link rel=\\'stylesheet\\' id=\\'wp-block-library-css\\' href=\\'https://www.theguitarlesson.com/guitar-pro-tabs/wp-includes/css/dist/block-library/style.min.css\\' media=\\'all\\' />\\n<style id=\\'classic-theme-styles-inline-css\\'>\\n/*! This file is auto-generated */\\n.wp-block-button__link{color:#fff;background-color:#32373c;border-radius:9999px;box-shadow:none;text-decoration:none;padding:calc(.667em + 2px) calc(1.333em + 2px);font-size:1.125em}.wp-block-file__button{background:#32373c;color:#fff;text-decoration:none}\\n</style>\\n<style id=\\'global-styles-inline-css\\'>\\nbody{--wp--preset--color--black: #000000;--wp--preset--color--cyan-bluish-gray: #abb8c3;--wp--preset--color--white: #ffffff;--wp--preset--color--pale-pink: #f78da7;--wp--preset--color--vivid-red: #cf2e2e;--wp--preset--color--luminous-vivid-orange: #ff6900;--wp--preset--color--luminous-vivid-amber: #fcb900;--wp--preset--color--light-green-cyan: #7bdcb5;--wp--preset--color--vivid-green-cyan: #00d084;--wp--preset--color--pale-cyan-blue: #8ed1fc;--wp--preset--color--vivid-cyan-blue: #0693e3;--wp--preset--color--vivid-purple: #9b51e0;--wp--preset--color--theme-palette-1: #7d0000;--wp--preset--color--theme-palette-2: #b40000;--wp--preset--color--theme-palette-3: #1f2933;--wp--preset--color--theme-palette-4: #3e4c59;--wp--preset--color--theme-palette-5: #5e6b77;--wp--preset--color--theme-palette-6: #b5b9c3;--wp--preset--color--theme-palette-7: #f3f4f7;--wp--preset--color--theme-palette-8: #f9f9fb;--wp--preset--color--theme-palette-9: #ffffff;--wp--preset--gradient--vivid-cyan-blue-to-vivid-purple: linear-gradient(135deg,rgba(6,147,227,1) 0%,rgb(155,81,224) 100%);--wp--preset--gradient--light-green-cyan-to-vivid-green-cyan: linear-gradient(135deg,rgb(122,220,180) 0%,rgb(0,208,130) 100%);--wp--preset--gradient--luminous-vivid-amber-to-luminous-vivid-orange: linear-gradient(135deg,rgba(252,185,0,1) 0%,rgba(255,105,0,1) 100%);--wp--preset--gradient--luminous-vivid-orange-to-vivid-red: linear-gradient(135deg,rgba(255,105,0,1) 0%,rgb(207,46,46) 100%);--wp--preset--gradient--very-light-gray-to-cyan-bluish-gray: linear-gradient(135deg,rgb(238,238,238) 0%,rgb(169,184,195) 100%);--wp--preset--gradient--cool-to-warm-spectrum: linear-gradient(135deg,rgb(74,234,220) 0%,rgb(151,120,209) 20%,rgb(207,42,186) 40%,rgb(238,44,130) 60%,rgb(251,105,98) 80%,rgb(254,248,76) 100%);--wp--preset--gradient--blush-light-purple: linear-gradient(135deg,rgb(255,206,236) 0%,rgb(152,150,240) 100%);--wp--preset--gradient--blush-bordeaux: linear-gradient(135deg,rgb(254,205,165) 0%,rgb(254,45,45) 50%,rgb(107,0,62) 100%);--wp--preset--gradient--luminous-dusk: linear-gradient(135deg,rgb(255,203,112) 0%,rgb(199,81,192) 50%,rgb(65,88,208) 100%);--wp--preset--gradient--pale-ocean: linear-gradient(135deg,rgb(255,245,203) 0%,rgb(182,227,212) 50%,rgb(51,167,181) 100%);--wp--preset--gradient--electric-grass: linear-gradient(135deg,rgb(202,248,128) 0%,rgb(113,206,126) 100%);--wp--preset--gradient--midnight: linear-gradient(135deg,rgb(2,3,129) 0%,rgb(40,116,252) 100%);--wp--preset--font-size--small: 14px;--wp--preset--font-size--medium: 24px;--wp--preset--font-size--large: 32px;--wp--preset--font-size--x-large: 42px;--wp--preset--font-size--larger: 40px;--wp--preset--spacing--20: 0.44rem;--wp--preset--spacing--30: 0.67rem;--wp--preset--spacing--40: 1rem;--wp--preset--spacing--50: 1.5rem;--wp--preset--spacing--60: 2.25rem;--wp--preset--spacing--70: 3.38rem;--wp--preset--spacing--80: 5.06rem;--wp--preset--shadow--natural: 6px 6px 9px rgba(0, 0, 0, 0.2);--wp--preset--shadow--deep: 12px 12px 50px rgba(0, 0, 0, 0.4);--wp--preset--shadow--sharp: 6px 6px 0px rgba(0, 0, 0, 0.2);--wp--preset--shadow--outlined: 6px 6px 0px -3px rgba(255, 255, 255, 1), 6px 6px rgba(0, 0, 0, 1);--wp--preset--shadow--crisp: 6px 6px 0px rgba(0, 0, 0, 1);}:where(.is-layout-flex){gap: 0.5em;}:where(.is-layout-grid){gap: 0.5em;}body .is-layout-flow > .alignleft{float: left;margin-inline-start: 0;margin-inline-end: 2em;}body .is-layout-flow > .alignright{float: right;margin-inline-start: 2em;margin-inline-end: 0;}body .is-layout-flow > .aligncenter{margin-left: auto !important;margin-right: auto !important;}body .is-layout-constrained > .alignleft{float: left;margin-inline-start: 0;margin-inline-end: 2em;}body .is-layout-constrained > .alignright{float: right;margin-inline-start: 2em;margin-inline-end: 0;}body .is-layout-constrained > .aligncenter{margin-left: auto !important;margin-right: auto !important;}body .is-layout-constrained > :where(:not(.alignleft):not(.alignright):not(.alignfull)){max-width: var(--wp--style--global--content-size);margin-left: auto !important;margin-right: auto !important;}body .is-layout-constrained > .alignwide{max-width: var(--wp--style--global--wide-size);}body .is-layout-flex{display: flex;}body .is-layout-flex{flex-wrap: wrap;align-items: center;}body .is-layout-flex > *{margin: 0;}body .is-layout-grid{display: grid;}body .is-layout-grid > *{margin: 0;}:where(.wp-block-columns.is-layout-flex){gap: 2em;}:where(.wp-block-columns.is-layout-grid){gap: 2em;}:where(.wp-block-post-template.is-layout-flex){gap: 1.25em;}:where(.wp-block-post-template.is-layout-grid){gap: 1.25em;}.has-black-color{color: var(--wp--preset--color--black) !important;}.has-cyan-bluish-gray-color{color: var(--wp--preset--color--cyan-bluish-gray) !important;}.has-white-color{color: var(--wp--preset--color--white) !important;}.has-pale-pink-color{color: var(--wp--preset--color--pale-pink) !important;}.has-vivid-red-color{color: var(--wp--preset--color--vivid-red) !important;}.has-luminous-vivid-orange-color{color: var(--wp--preset--color--luminous-vivid-orange) !important;}.has-luminous-vivid-amber-color{color: var(--wp--preset--color--luminous-vivid-amber) !important;}.has-light-green-cyan-color{color: var(--wp--preset--color--light-green-cyan) !important;}.has-vivid-green-cyan-color{color: var(--wp--preset--color--vivid-green-cyan) !important;}.has-pale-cyan-blue-color{color: var(--wp--preset--color--pale-cyan-blue) !important;}.has-vivid-cyan-blue-color{color: var(--wp--preset--color--vivid-cyan-blue) !important;}.has-vivid-purple-color{color: var(--wp--preset--color--vivid-purple) !important;}.has-black-background-color{background-color: var(--wp--preset--color--black) !important;}.has-cyan-bluish-gray-background-color{background-color: var(--wp--preset--color--cyan-bluish-gray) !important;}.has-white-background-color{background-color: var(--wp--preset--color--white) !important;}.has-pale-pink-background-color{background-color: var(--wp--preset--color--pale-pink) !important;}.has-vivid-red-background-color{background-color: var(--wp--preset--color--vivid-red) !important;}.has-luminous-vivid-orange-background-color{background-color: var(--wp--preset--color--luminous-vivid-orange) !important;}.has-luminous-vivid-amber-background-color{background-color: var(--wp--preset--color--luminous-vivid-amber) !important;}.has-light-green-cyan-background-color{background-color: var(--wp--preset--color--light-green-cyan) !important;}.has-vivid-green-cyan-background-color{background-color: var(--wp--preset--color--vivid-green-cyan) !important;}.has-pale-cyan-blue-background-color{background-color: var(--wp--preset--color--pale-cyan-blue) !important;}.has-vivid-cyan-blue-background-color{background-color: var(--wp--preset--color--vivid-cyan-blue) !important;}.has-vivid-purple-background-color{background-color: var(--wp--preset--color--vivid-purple) !important;}.has-black-border-color{border-color: var(--wp--preset--color--black) !important;}.has-cyan-bluish-gray-border-color{border-color: var(--wp--preset--color--cyan-bluish-gray) !important;}.has-white-border-color{border-color: var(--wp--preset--color--white) !important;}.has-pale-pink-border-color{border-color: var(--wp--preset--color--pale-pink) !important;}.has-vivid-red-border-color{border-color: var(--wp--preset--color--vivid-red) !important;}.has-luminous-vivid-orange-border-color{border-color: var(--wp--preset--color--luminous-vivid-orange) !important;}.has-luminous-vivid-amber-border-color{border-color: var(--wp--preset--color--luminous-vivid-amber) !important;}.has-light-green-cyan-border-color{border-color: var(--wp--preset--color--light-green-cyan) !important;}.has-vivid-green-cyan-border-color{border-color: var(--wp--preset--color--vivid-green-cyan) !important;}.has-pale-cyan-blue-border-color{border-color: var(--wp--preset--color--pale-cyan-blue) !important;}.has-vivid-cyan-blue-border-color{border-color: var(--wp--preset--color--vivid-cyan-blue) !important;}.has-vivid-purple-border-color{border-color: var(--wp--preset--color--vivid-purple) !important;}.has-vivid-cyan-blue-to-vivid-purple-gradient-background{background: var(--wp--preset--gradient--vivid-cyan-blue-to-vivid-purple) !important;}.has-light-green-cyan-to-vivid-green-cyan-gradient-background{background: var(--wp--preset--gradient--light-green-cyan-to-vivid-green-cyan) !important;}.has-luminous-vivid-amber-to-luminous-vivid-orange-gradient-background{background: var(--wp--preset--gradient--luminous-vivid-amber-to-luminous-vivid-orange) !important;}.has-luminous-vivid-orange-to-vivid-red-gradient-background{background: var(--wp--preset--gradient--luminous-vivid-orange-to-vivid-red) !important;}.has-very-light-gray-to-cyan-bluish-gray-gradient-background{background: var(--wp--preset--gradient--very-light-gray-to-cyan-bluish-gray) !important;}.has-cool-to-warm-spectrum-gradient-background{background: var(--wp--preset--gradient--cool-to-warm-spectrum) !important;}.has-blush-light-purple-gradient-background{background: var(--wp--preset--gradient--blush-light-purple) !important;}.has-blush-bordeaux-gradient-background{background: var(--wp--preset--gradient--blush-bordeaux) !important;}.has-luminous-dusk-gradient-background{background: var(--wp--preset--gradient--luminous-dusk) !important;}.has-pale-ocean-gradient-background{background: var(--wp--preset--gradient--pale-ocean) !important;}.has-electric-grass-gradient-background{background: var(--wp--preset--gradient--electric-grass) !important;}.has-midnight-gradient-background{background: var(--wp--preset--gradient--midnight) !important;}.has-small-font-size{font-size: var(--wp--preset--font-size--small) !important;}.has-medium-font-size{font-size: var(--wp--preset--font-size--medium) !important;}.has-large-font-size{font-size: var(--wp--preset--font-size--large) !important;}.has-x-large-font-size{font-size: var(--wp--preset--font-size--x-large) !important;}\\n.wp-block-navigation a:where(:not(.wp-element-button)){color: inherit;}\\n:where(.wp-block-post-template.is-layout-flex){gap: 1.25em;}:where(.wp-block-post-template.is-layout-grid){gap: 1.25em;}\\n:where(.wp-block-columns.is-layout-flex){gap: 2em;}:where(.wp-block-columns.is-layout-grid){gap: 2em;}\\n.wp-block-pullquote{font-size: 1.5em;line-height: 1.6;}\\n</style>\\n<link rel=\\'stylesheet\\' id=\\'isf_style-css\\' href=\\'https://www.theguitarlesson.com/guitar-pro-tabs/wp-content/plugins/indeed-social-media/social_follow/files/css/style-frond_end.css\\' media=\\'all\\' />\\n<link rel=\\'stylesheet\\' id=\\'isf_pack_social_follow-css\\' href=\\'https://www.theguitarlesson.com/guitar-pro-tabs/wp-content/plugins/indeed-social-media/social_follow/files/css/pack_social_follow.css\\' media=\\'all\\' />\\n<link rel=\\'stylesheet\\' id=\\'ism_socicon-css\\' href=\\'https://www.theguitarlesson.com/guitar-pro-tabs/wp-content/plugins/indeed-social-media/files/css/socicon.css\\' media=\\'all\\' />\\n<link rel=\\'stylesheet\\' id=\\'ism_style-css\\' href=\\'https://www.theguitarlesson.com/guitar-pro-tabs/wp-content/plugins/indeed-social-media/files/css/style-front_end.css\\' media=\\'all\\' />\\n<link rel=\\'stylesheet\\' id=\\'ism_templates-css\\' href=\\'https://www.theguitarlesson.com/guitar-pro-tabs/wp-content/plugins/indeed-social-media/files/css/templates.css\\' media=\\'all\\' />\\n<link rel=\\'stylesheet\\' id=\\'ism_show_effects_css-css\\' href=\\'https://www.theguitarlesson.com/guitar-pro-tabs/wp-content/plugins/indeed-social-media/files/css/animate.css\\' media=\\'all\\' />\\n<link rel=\\'stylesheet\\' id=\\'ism_ns_theme_pack-css\\' href=\\'https://www.theguitarlesson.com/guitar-pro-tabs/wp-content/plugins/indeed-social-media/files/css/news-letter-themes-style.css\\' media=\\'all\\' />\\n<link rel=\\'stylesheet\\' id=\\'kadence-global-css\\' href=\\'https://www.theguitarlesson.com/guitar-pro-tabs/wp-content/themes/kadence/assets/css/global.min.css\\' media=\\'all\\' />\\n<style id=\\'kadence-global-inline-css\\'>\\n/* Kadence Base CSS */\\n:root{--global-palette1:#7d0000;--global-palette2:#b40000;--global-palette3:#1f2933;--global-palette4:#3e4c59;--global-palette5:#5e6b77;--global-palette6:#b5b9c3;--global-palette7:#f3f4f7;--global-palette8:#f9f9fb;--global-palette9:#ffffff;--global-palette9rgb:255, 255, 255;--global-palette-highlight:var(--global-palette1);--global-palette-highlight-alt:var(--global-palette2);--global-palette-highlight-alt2:var(--global-palette9);--global-palette-btn-bg:var(--global-palette1);--global-palette-btn-bg-hover:var(--global-palette2);--global-palette-btn:var(--global-palette9);--global-palette-btn-hover:var(--global-palette9);--global-body-font-family:-apple-system,BlinkMacSystemFont,\"Segoe UI\",Roboto,Oxygen-Sans,Ubuntu,Cantarell,\"Helvetica Neue\",sans-serif, \"Apple Color Emoji\", \"Segoe UI Emoji\", \"Segoe UI Symbol\";--global-heading-font-family:inherit;--global-primary-nav-font-family:Arial, Helvetica, sans-serif;--global-fallback-font:sans-serif;--global-display-fallback-font:sans-serif;--global-content-width:1290px;--global-content-narrow-width:842px;--global-content-edge-padding:1.5rem;--global-content-boxed-padding:2rem;--global-calc-content-width:calc(1290px - var(--global-content-edge-padding) - var(--global-content-edge-padding) );--wp--style--global--content-size:var(--global-calc-content-width);}.wp-site-blocks{--global-vw:calc( 100vw - ( 0.5 * var(--scrollbar-offset)));}:root .has-theme-palette-1-background-color{background-color:var(--global-palette1);}:root .has-theme-palette-1-color{color:var(--global-palette1);}:root .has-theme-palette-2-background-color{background-color:var(--global-palette2);}:root .has-theme-palette-2-color{color:var(--global-palette2);}:root .has-theme-palette-3-background-color{background-color:var(--global-palette3);}:root .has-theme-palette-3-color{color:var(--global-palette3);}:root .has-theme-palette-4-background-color{background-color:var(--global-palette4);}:root .has-theme-palette-4-color{color:var(--global-palette4);}:root .has-theme-palette-5-background-color{background-color:var(--global-palette5);}:root .has-theme-palette-5-color{color:var(--global-palette5);}:root .has-theme-palette-6-background-color{background-color:var(--global-palette6);}:root .has-theme-palette-6-color{color:var(--global-palette6);}:root .has-theme-palette-7-background-color{background-color:var(--global-palette7);}:root .has-theme-palette-7-color{color:var(--global-palette7);}:root .has-theme-palette-8-background-color{background-color:var(--global-palette8);}:root .has-theme-palette-8-color{color:var(--global-palette8);}:root .has-theme-palette-9-background-color{background-color:var(--global-palette9);}:root .has-theme-palette-9-color{color:var(--global-palette9);}:root .has-theme-palette1-background-color{background-color:var(--global-palette1);}:root .has-theme-palette1-color{color:var(--global-palette1);}:root .has-theme-palette2-background-color{background-color:var(--global-palette2);}:root .has-theme-palette2-color{color:var(--global-palette2);}:root .has-theme-palette3-background-color{background-color:var(--global-palette3);}:root .has-theme-palette3-color{color:var(--global-palette3);}:root .has-theme-palette4-background-color{background-color:var(--global-palette4);}:root .has-theme-palette4-color{color:var(--global-palette4);}:root .has-theme-palette5-background-color{background-color:var(--global-palette5);}:root .has-theme-palette5-color{color:var(--global-palette5);}:root .has-theme-palette6-background-color{background-color:var(--global-palette6);}:root .has-theme-palette6-color{color:var(--global-palette6);}:root .has-theme-palette7-background-color{background-color:var(--global-palette7);}:root .has-theme-palette7-color{color:var(--global-palette7);}:root .has-theme-palette8-background-color{background-color:var(--global-palette8);}:root .has-theme-palette8-color{color:var(--global-palette8);}:root .has-theme-palette9-background-color{background-color:var(--global-palette9);}:root .has-theme-palette9-color{color:var(--global-palette9);}body{background:var(--global-palette8);}body, input, select, optgroup, textarea{font-weight:400;font-size:17px;line-height:1.6;font-family:var(--global-body-font-family);color:var(--global-palette4);}.content-bg, body.content-style-unboxed .site{background:var(--global-palette9);}h1,h2,h3,h4,h5,h6{font-family:var(--global-heading-font-family);}h1{font-weight:700;font-size:32px;line-height:1.5;color:var(--global-palette3);}h2{font-style:normal;font-weight:700;font-size:28px;line-height:1.5;color:var(--global-palette3);}h3{font-style:normal;font-weight:700;font-size:24px;line-height:1.5;color:var(--global-palette3);}h4{font-weight:700;font-size:22px;line-height:1.5;color:var(--global-palette4);}h5{font-weight:700;font-size:20px;line-height:1.5;color:var(--global-palette4);}h6{font-weight:700;font-size:18px;line-height:1.5;color:var(--global-palette5);}.entry-hero .kadence-breadcrumbs{max-width:1290px;}.site-container, .site-header-row-layout-contained, .site-footer-row-layout-contained, .entry-hero-layout-contained, .comments-area, .alignfull > .wp-block-cover__inner-container, .alignwide > .wp-block-cover__inner-container{max-width:var(--global-content-width);}.content-width-narrow .content-container.site-container, .content-width-narrow .hero-container.site-container{max-width:var(--global-content-narrow-width);}@media all and (min-width: 1520px){.wp-site-blocks .content-container  .alignwide{margin-left:-115px;margin-right:-115px;width:unset;max-width:unset;}}@media all and (min-width: 1102px){.content-width-narrow .wp-site-blocks .content-container .alignwide{margin-left:-130px;margin-right:-130px;width:unset;max-width:unset;}}.content-style-boxed .wp-site-blocks .entry-content .alignwide{margin-left:calc( -1 * var( --global-content-boxed-padding ) );margin-right:calc( -1 * var( --global-content-boxed-padding ) );}.content-area{margin-top:5rem;margin-bottom:5rem;}@media all and (max-width: 1024px){.content-area{margin-top:3rem;margin-bottom:3rem;}}@media all and (max-width: 767px){.content-area{margin-top:2rem;margin-bottom:2rem;}}@media all and (max-width: 1024px){:root{--global-content-boxed-padding:2rem;}}@media all and (max-width: 767px){:root{--global-content-boxed-padding:1.5rem;}}.entry-content-wrap{padding:2rem;}@media all and (max-width: 1024px){.entry-content-wrap{padding:2rem;}}@media all and (max-width: 767px){.entry-content-wrap{padding:1.5rem;}}.entry.single-entry{box-shadow:0px 15px 15px -10px rgba(0,0,0,0.05);}.entry.loop-entry{box-shadow:0px 15px 15px -10px rgba(0,0,0,0.05);}.loop-entry .entry-content-wrap{padding:2rem;}@media all and (max-width: 1024px){.loop-entry .entry-content-wrap{padding:2rem;}}@media all and (max-width: 767px){.loop-entry .entry-content-wrap{padding:1.5rem;}}.primary-sidebar.widget-area .widget{margin-bottom:1.5em;color:var(--global-palette4);}.primary-sidebar.widget-area .widget-title{font-weight:700;font-size:20px;line-height:1.5;color:var(--global-palette3);}button, .button, .wp-block-button__link, input[type=\"button\"], input[type=\"reset\"], input[type=\"submit\"], .fl-button, .elementor-button-wrapper .elementor-button{box-shadow:0px 0px 0px -7px rgba(0,0,0,0);}button:hover, button:focus, button:active, .button:hover, .button:focus, .button:active, .wp-block-button__link:hover, .wp-block-button__link:focus, .wp-block-button__link:active, input[type=\"button\"]:hover, input[type=\"button\"]:focus, input[type=\"button\"]:active, input[type=\"reset\"]:hover, input[type=\"reset\"]:focus, input[type=\"reset\"]:active, input[type=\"submit\"]:hover, input[type=\"submit\"]:focus, input[type=\"submit\"]:active, .elementor-button-wrapper .elementor-button:hover, .elementor-button-wrapper .elementor-button:focus, .elementor-button-wrapper .elementor-button:active{box-shadow:0px 15px 25px -7px rgba(0,0,0,0.1);}@media all and (min-width: 1025px){.transparent-header .entry-hero .entry-hero-container-inner{padding-top:calc(0px + 70px);}}@media all and (max-width: 1024px){.mobile-transparent-header .entry-hero .entry-hero-container-inner{padding-top:calc(0px + 70px);}}@media all and (max-width: 767px){.mobile-transparent-header .entry-hero .entry-hero-container-inner{padding-top:calc(0px + 70px);}}.site-middle-footer-wrap .site-footer-row-container-inner{background:var(--global-palette3);font-style:normal;font-size:16px;color:var(--global-palette7);}.site-footer .site-middle-footer-wrap a:where(:not(.button):not(.wp-block-button__link):not(.wp-element-button)){color:var(--global-palette7);}.site-middle-footer-inner-wrap{padding-top:30px;padding-bottom:30px;grid-column-gap:30px;grid-row-gap:30px;}.site-middle-footer-inner-wrap .widget{margin-bottom:30px;}.site-middle-footer-inner-wrap .widget-area .widget-title{font-style:normal;color:var(--global-palette6);}.site-middle-footer-inner-wrap .site-footer-section:not(:last-child):after{right:calc(-30px / 2);}.site-top-footer-inner-wrap{padding-top:30px;padding-bottom:30px;grid-column-gap:30px;grid-row-gap:30px;}.site-top-footer-inner-wrap .widget{margin-bottom:30px;}.site-top-footer-inner-wrap .site-footer-section:not(:last-child):after{right:calc(-30px / 2);}.site-bottom-footer-wrap .site-footer-row-container-inner{background:var(--global-palette3);font-style:normal;color:var(--global-palette7);}.site-footer .site-bottom-footer-wrap a:where(:not(.button):not(.wp-block-button__link):not(.wp-element-button)){color:var(--global-palette7);}.site-bottom-footer-inner-wrap{padding-top:30px;padding-bottom:30px;grid-column-gap:30px;}.site-bottom-footer-inner-wrap .widget{margin-bottom:30px;}.site-bottom-footer-inner-wrap .site-footer-section:not(:last-child):after{right:calc(-30px / 2);}.footer-social-wrap .footer-social-inner-wrap{font-size:1em;gap:0.3em;}.site-footer .site-footer-wrap .site-footer-section .footer-social-wrap .footer-social-inner-wrap .social-button{border:2px none transparent;border-radius:3px;}#colophon .footer-html{font-style:normal;font-size:15px;}#kt-scroll-up-reader, #kt-scroll-up{border-radius:0px 0px 0px 0px;bottom:30px;font-size:1.2em;padding:0.4em 0.4em 0.4em 0.4em;}#kt-scroll-up-reader.scroll-up-side-right, #kt-scroll-up.scroll-up-side-right{right:30px;}#kt-scroll-up-reader.scroll-up-side-left, #kt-scroll-up.scroll-up-side-left{left:30px;}#colophon .footer-navigation .footer-menu-container > ul > li > a{padding-left:calc(1.2em / 2);padding-right:calc(1.2em / 2);padding-top:calc(0.6em / 2);padding-bottom:calc(0.6em / 2);color:var(--global-palette5);}#colophon .footer-navigation .footer-menu-container > ul li a:hover{color:var(--global-palette-highlight);}#colophon .footer-navigation .footer-menu-container > ul li.current-menu-item > a{color:var(--global-palette3);}.wp-site-blocks .page-title h1{font-style:normal;color:var(--global-palette9);}.page-title .kadence-breadcrumbs{color:rgba(255,255,255,0.62);}.page-title .kadence-breadcrumbs a:hover{color:rgba(255,255,255,0.8);}.page-hero-section .entry-hero-container-inner{background:var(--global-palette1);}.entry-hero.page-hero-section .entry-header{min-height:200px;}.entry-author-style-center{padding-top:var(--global-md-spacing);border-top:1px solid var(--global-gray-500);}.entry-author-style-center .entry-author-avatar, .entry-meta .author-avatar{display:none;}.entry-author-style-normal .entry-author-profile{padding-left:0px;}#comments .comment-meta{margin-left:0px;}.wp-site-blocks .post-title h1{font-style:normal;color:var(--global-palette9);}.post-title .entry-meta{color:var(--global-palette9);}.post-title .entry-meta a:hover{color:var(--global-palette9);}.post-title .kadence-breadcrumbs{color:rgba(255,255,255,0.62);}.post-title .kadence-breadcrumbs a:hover{color:rgba(255,255,255,0.8);}.post-hero-section .entry-hero-container-inner{background:var(--global-palette1);}.entry-hero.post-hero-section .entry-header{min-height:200px;}.post-archive-hero-section .entry-hero-container-inner{background:var(--global-palette1);}.wp-site-blocks .post-archive-title h1{color:var(--global-palette9);}\\n/* Kadence Header CSS */\\n@media all and (max-width: 1024px){.mobile-transparent-header #masthead{position:absolute;left:0px;right:0px;z-index:100;}.kadence-scrollbar-fixer.mobile-transparent-header #masthead{right:var(--scrollbar-offset,0);}.mobile-transparent-header #masthead, .mobile-transparent-header .site-top-header-wrap .site-header-row-container-inner, .mobile-transparent-header .site-main-header-wrap .site-header-row-container-inner, .mobile-transparent-header .site-bottom-header-wrap .site-header-row-container-inner{background:transparent;}.site-header-row-tablet-layout-fullwidth, .site-header-row-tablet-layout-standard{padding:0px;}}@media all and (min-width: 1025px){.transparent-header #masthead{position:absolute;left:0px;right:0px;z-index:100;}.transparent-header.kadence-scrollbar-fixer #masthead{right:var(--scrollbar-offset,0);}.transparent-header #masthead, .transparent-header .site-top-header-wrap .site-header-row-container-inner, .transparent-header .site-main-header-wrap .site-header-row-container-inner, .transparent-header .site-bottom-header-wrap .site-header-row-container-inner{background:transparent;}}.site-branding a.brand img{max-width:119px;}.site-branding a.brand img.svg-logo-image{width:119px;}.site-branding{padding:0px 0px 0px 0px;}#masthead, #masthead .kadence-sticky-header.item-is-fixed:not(.item-at-start):not(.site-header-row-container):not(.site-main-header-wrap), #masthead .kadence-sticky-header.item-is-fixed:not(.item-at-start) > .site-header-row-container-inner{background:linear-gradient(180deg,rgba(25,27,29,1) 3%,rgba(36,37,39,1) 100%);}.site-main-header-wrap .site-header-row-container-inner{background:linear-gradient(0deg,rgba(51,51,51,1) 0%,rgba(25,25,25,1) 100%);}.site-main-header-inner-wrap{min-height:70px;}.site-top-header-wrap .site-header-row-container-inner{background:#191919;border-bottom:0px solid #191919;}.site-top-header-inner-wrap{min-height:0px;}.site-top-header-wrap .site-header-row-container-inner>.site-container{padding:0px 0px 0px 0px;}.site-bottom-header-inner-wrap{min-height:0px;}.header-navigation[class*=\"header-navigation-style-underline\"] .header-menu-container.primary-menu-container>ul>li>a:after{width:calc( 100% - 1.2em);}.main-navigation .primary-menu-container > ul > li.menu-item > a{padding-left:calc(1.2em / 2);padding-right:calc(1.2em / 2);color:var(--global-palette7);}.main-navigation .primary-menu-container > ul > li.menu-item .dropdown-nav-special-toggle{right:calc(1.2em / 2);}.main-navigation .primary-menu-container > ul li.menu-item > a{font-style:normal;font-weight:700;font-size:15px;line-height:1.4;letter-spacing:0em;font-family:var(--global-primary-nav-font-family);text-transform:none;}.main-navigation .primary-menu-container > ul > li.menu-item > a:hover{color:var(--global-palette6);}.header-navigation[class*=\"header-navigation-style-underline\"] .header-menu-container.primary-menu-container>ul>li.current-menu-ancestor>a:after{transform:scale(1, 1) translate(50%, 0);}.main-navigation .primary-menu-container > ul > li.menu-item.current-menu-item > a, .main-navigation .primary-menu-container > ul > li.menu-item.current-menu-ancestor > a{color:var(--global-palette6);}.header-navigation[class*=\"header-navigation-style-underline\"] .header-menu-container.secondary-menu-container>ul>li>a:after{width:calc( 100% - 1.2em);}.secondary-navigation .secondary-menu-container > ul > li.menu-item > a{padding-left:calc(1.2em / 2);padding-right:calc(1.2em / 2);padding-top:0.6em;padding-bottom:0.6em;color:var(--global-palette5);}.secondary-navigation .primary-menu-container > ul > li.menu-item .dropdown-nav-special-toggle{right:calc(1.2em / 2);}.secondary-navigation .secondary-menu-container > ul > li.menu-item > a:hover{color:var(--global-palette-highlight);}.secondary-navigation .secondary-menu-container > ul > li.menu-item.current-menu-item > a{color:var(--global-palette3);}.header-navigation .header-menu-container ul ul.sub-menu, .header-navigation .header-menu-container ul ul.submenu{background:#444446;box-shadow:0px 2px 13px 0px rgba(0,0,0,0.1);}.header-navigation .header-menu-container ul ul li.menu-item, .header-menu-container ul.menu > li.kadence-menu-mega-enabled > ul > li.menu-item > a{border-bottom:1px solid rgba(255,255,255,0.1);}.header-navigation .header-menu-container ul ul li.menu-item > a{width:200px;padding-top:1em;padding-bottom:1em;color:var(--global-palette8);font-size:12px;}.header-navigation .header-menu-container ul ul li.menu-item > a:hover{color:var(--global-palette9);background:#3d3d3f;}.header-navigation .header-menu-container ul ul li.menu-item.current-menu-item > a{color:var(--global-palette9);background:#444446;}.mobile-toggle-open-container .menu-toggle-open{color:var(--global-palette5);padding:0.4em 0.6em 0.4em 0.6em;font-size:14px;}.mobile-toggle-open-container .menu-toggle-open.menu-toggle-style-bordered{border:1px solid currentColor;}.mobile-toggle-open-container .menu-toggle-open .menu-toggle-icon{font-size:20px;}.mobile-toggle-open-container .menu-toggle-open:hover, .mobile-toggle-open-container .menu-toggle-open:focus{color:var(--global-palette-highlight);}.mobile-navigation ul li{font-size:14px;}.mobile-navigation ul li a{padding-top:1em;padding-bottom:1em;}.mobile-navigation ul li > a, .mobile-navigation ul li.menu-item-has-children > .drawer-nav-drop-wrap{color:var(--global-palette8);}.mobile-navigation ul li.current-menu-item > a, .mobile-navigation ul li.current-menu-item.menu-item-has-children > .drawer-nav-drop-wrap{color:var(--global-palette-highlight);}.mobile-navigation ul li.menu-item-has-children .drawer-nav-drop-wrap, .mobile-navigation ul li:not(.menu-item-has-children) a{border-bottom:1px solid rgba(255,255,255,0.1);}.mobile-navigation:not(.drawer-navigation-parent-toggle-true) ul li.menu-item-has-children .drawer-nav-drop-wrap button{border-left:1px solid rgba(255,255,255,0.1);}#mobile-drawer .drawer-header .drawer-toggle{padding:0.6em 0.15em 0.6em 0.15em;font-size:24px;}#main-header .header-button{border:2px none transparent;box-shadow:0px 0px 0px -7px rgba(0,0,0,0);}#main-header .header-button:hover{box-shadow:0px 15px 25px -7px rgba(0,0,0,0.1);}.header-html{font-style:normal;font-size:16px;color:var(--global-palette6);}.header-html a{color:var(--global-palette6);}.header-social-wrap .header-social-inner-wrap{font-size:0.9em;gap:0em;}.header-social-wrap .header-social-inner-wrap .social-button{color:var(--global-palette6);border:2px none transparent;border-radius:3px;}.header-social-wrap .header-social-inner-wrap .social-button:hover{color:var(--global-palette7);}.header-mobile-social-wrap .header-mobile-social-inner-wrap{font-size:1em;gap:0.3em;}.header-mobile-social-wrap .header-mobile-social-inner-wrap .social-button{border:2px none transparent;border-radius:3px;}.search-toggle-open-container .search-toggle-open{color:var(--global-palette5);}.search-toggle-open-container .search-toggle-open.search-toggle-style-bordered{border:1px solid currentColor;}.search-toggle-open-container .search-toggle-open .search-toggle-icon{font-size:1em;}.search-toggle-open-container .search-toggle-open:hover, .search-toggle-open-container .search-toggle-open:focus{color:var(--global-palette7);}#search-drawer .drawer-inner{background:rgba(9, 12, 16, 0.97);}.mobile-header-button-wrap .mobile-header-button-inner-wrap .mobile-header-button{border:2px none transparent;box-shadow:0px 0px 0px -7px rgba(0,0,0,0);}.mobile-header-button-wrap .mobile-header-button-inner-wrap .mobile-header-button:hover{box-shadow:0px 15px 25px -7px rgba(0,0,0,0.1);}.mobile-html{font-style:normal;font-size:14px;color:var(--global-palette6);}.mobile-html a{color:var(--global-palette6);}\\n/* Kadence Pro Header CSS */\\n.header-navigation-dropdown-direction-left ul ul.submenu, .header-navigation-dropdown-direction-left ul ul.sub-menu{right:0px;left:auto;}.rtl .header-navigation-dropdown-direction-right ul ul.submenu, .rtl .header-navigation-dropdown-direction-right ul ul.sub-menu{left:0px;right:auto;}.header-account-button .nav-drop-title-wrap > .kadence-svg-iconset, .header-account-button > .kadence-svg-iconset{font-size:1.2em;}.site-header-item .header-account-button .nav-drop-title-wrap, .site-header-item .header-account-wrap > .header-account-button{display:flex;align-items:center;}.header-account-style-icon_label .header-account-label{padding-left:5px;}.header-account-style-label_icon .header-account-label{padding-right:5px;}.site-header-item .header-account-wrap .header-account-button{text-decoration:none;box-shadow:none;color:inherit;background:transparent;padding:0.6em 0em 0.6em 0em;}.header-mobile-account-wrap .header-account-button .nav-drop-title-wrap > .kadence-svg-iconset, .header-mobile-account-wrap .header-account-button > .kadence-svg-iconset{font-size:1.2em;}.header-mobile-account-wrap .header-account-button .nav-drop-title-wrap, .header-mobile-account-wrap > .header-account-button{display:flex;align-items:center;}.header-mobile-account-wrap.header-account-style-icon_label .header-account-label{padding-left:5px;}.header-mobile-account-wrap.header-account-style-label_icon .header-account-label{padding-right:5px;}.header-mobile-account-wrap .header-account-button{text-decoration:none;box-shadow:none;color:inherit;background:transparent;padding:0.6em 0em 0.6em 0em;}#login-drawer .drawer-inner .drawer-content{display:flex;justify-content:center;align-items:center;position:absolute;top:0px;bottom:0px;left:0px;right:0px;padding:0px;}#loginform p label{display:block;}#login-drawer #loginform{width:100%;}#login-drawer #loginform input{width:100%;}#login-drawer #loginform input[type=\"checkbox\"]{width:auto;}#login-drawer .drawer-inner .drawer-header{position:relative;z-index:100;}#login-drawer .drawer-content_inner.widget_login_form_inner{padding:2em;width:100%;max-width:350px;border-radius:.25rem;background:var(--global-palette9);color:var(--global-palette4);}#login-drawer .lost_password a{color:var(--global-palette6);}#login-drawer .lost_password, #login-drawer .register-field{text-align:center;}#login-drawer .widget_login_form_inner p{margin-top:1.2em;margin-bottom:0em;}#login-drawer .widget_login_form_inner p:first-child{margin-top:0em;}#login-drawer .widget_login_form_inner label{margin-bottom:0.5em;}#login-drawer hr.register-divider{margin:1.2em 0;border-width:1px;}#login-drawer .register-field{font-size:90%;}@media all and (min-width: 1025px){#login-drawer hr.register-divider.hide-desktop{display:none;}#login-drawer p.register-field.hide-desktop{display:none;}}@media all and (max-width: 1024px){#login-drawer hr.register-divider.hide-mobile{display:none;}#login-drawer p.register-field.hide-mobile{display:none;}}@media all and (max-width: 767px){#login-drawer hr.register-divider.hide-mobile{display:none;}#login-drawer p.register-field.hide-mobile{display:none;}}.tertiary-navigation .tertiary-menu-container > ul > li.menu-item > a{padding-left:calc(1.2em / 2);padding-right:calc(1.2em / 2);padding-top:0.6em;padding-bottom:0.6em;color:var(--global-palette5);}.tertiary-navigation .tertiary-menu-container > ul > li.menu-item > a:hover{color:var(--global-palette-highlight);}.tertiary-navigation .tertiary-menu-container > ul > li.menu-item.current-menu-item > a{color:var(--global-palette3);}.header-navigation[class*=\"header-navigation-style-underline\"] .header-menu-container.tertiary-menu-container>ul>li>a:after{width:calc( 100% - 1.2em);}.quaternary-navigation .quaternary-menu-container > ul > li.menu-item > a{padding-left:calc(1.2em / 2);padding-right:calc(1.2em / 2);padding-top:0.6em;padding-bottom:0.6em;color:var(--global-palette5);}.quaternary-navigation .quaternary-menu-container > ul > li.menu-item > a:hover{color:var(--global-palette-highlight);}.quaternary-navigation .quaternary-menu-container > ul > li.menu-item.current-menu-item > a{color:var(--global-palette3);}.header-navigation[class*=\"header-navigation-style-underline\"] .header-menu-container.quaternary-menu-container>ul>li>a:after{width:calc( 100% - 1.2em);}#main-header .header-divider{border-right:1px solid var(--global-palette6);height:48%;}#main-header .header-divider2{border-right:1px solid var(--global-palette6);height:26%;}#main-header .header-divider3{border-right:1px solid var(--global-palette6);height:50%;}#mobile-header .header-mobile-divider, #mobile-drawer .header-mobile-divider{border-right:1px solid var(--global-palette6);height:50%;}#mobile-drawer .header-mobile-divider{border-top:1px solid var(--global-palette6);width:50%;}#mobile-header .header-mobile-divider2{border-right:1px solid var(--global-palette6);height:50%;}#mobile-drawer .header-mobile-divider2{border-top:1px solid var(--global-palette6);width:50%;}.header-item-search-bar form ::-webkit-input-placeholder{color:currentColor;opacity:0.5;}.header-item-search-bar form ::placeholder{color:currentColor;opacity:0.5;}.header-search-bar form{max-width:100%;width:240px;}.header-mobile-search-bar form{max-width:calc(100vw - var(--global-sm-spacing) - var(--global-sm-spacing));width:240px;}.header-widget-lstyle-normal .header-widget-area-inner a:not(.button){text-decoration:underline;}.element-contact-inner-wrap{display:flex;flex-wrap:wrap;align-items:center;margin-top:-0.6em;margin-left:calc(-0.6em / 2);margin-right:calc(-0.6em / 2);}.element-contact-inner-wrap .header-contact-item{display:inline-flex;flex-wrap:wrap;align-items:center;margin-top:0.6em;margin-left:calc(0.6em / 2);margin-right:calc(0.6em / 2);}.element-contact-inner-wrap .header-contact-item .kadence-svg-iconset{font-size:1em;}.header-contact-item img{display:inline-block;}.header-contact-item .contact-label{margin-left:0.3em;}.rtl .header-contact-item .contact-label{margin-right:0.3em;margin-left:0px;}.header-mobile-contact-wrap .element-contact-inner-wrap{display:flex;flex-wrap:wrap;align-items:center;margin-top:-0.6em;margin-left:calc(-0.6em / 2);margin-right:calc(-0.6em / 2);}.header-mobile-contact-wrap .element-contact-inner-wrap .header-contact-item{display:inline-flex;flex-wrap:wrap;align-items:center;margin-top:0.6em;margin-left:calc(0.6em / 2);margin-right:calc(0.6em / 2);}.header-mobile-contact-wrap .element-contact-inner-wrap .header-contact-item .kadence-svg-iconset{font-size:1em;}#main-header .header-button2{border:2px none transparent;box-shadow:0px 0px 0px -7px rgba(0,0,0,0);}#main-header .header-button2:hover{box-shadow:0px 15px 25px -7px rgba(0,0,0,0.1);}.mobile-header-button2-wrap .mobile-header-button-inner-wrap .mobile-header-button2{border:2px none transparent;box-shadow:0px 0px 0px -7px rgba(0,0,0,0);}.mobile-header-button2-wrap .mobile-header-button-inner-wrap .mobile-header-button2:hover{box-shadow:0px 15px 25px -7px rgba(0,0,0,0.1);}#widget-drawer.popup-drawer-layout-fullwidth .drawer-content .header-widget2, #widget-drawer.popup-drawer-layout-sidepanel .drawer-inner{max-width:400px;}#widget-drawer.popup-drawer-layout-fullwidth .drawer-content .header-widget2{margin:0 auto;}.widget-toggle-open{display:flex;align-items:center;background:transparent;box-shadow:none;}.widget-toggle-open:hover, .widget-toggle-open:focus{border-color:currentColor;background:transparent;box-shadow:none;}.widget-toggle-open .widget-toggle-icon{display:flex;}.widget-toggle-open .widget-toggle-label{padding-right:5px;}.rtl .widget-toggle-open .widget-toggle-label{padding-left:5px;padding-right:0px;}.widget-toggle-open .widget-toggle-label:empty, .rtl .widget-toggle-open .widget-toggle-label:empty{padding-right:0px;padding-left:0px;}.widget-toggle-open-container .widget-toggle-open{color:var(--global-palette5);padding:0.4em 0.6em 0.4em 0.6em;font-size:14px;}.widget-toggle-open-container .widget-toggle-open.widget-toggle-style-bordered{border:1px solid currentColor;}.widget-toggle-open-container .widget-toggle-open .widget-toggle-icon{font-size:20px;}.widget-toggle-open-container .widget-toggle-open:hover, .widget-toggle-open-container .widget-toggle-open:focus{color:var(--global-palette-highlight);}#widget-drawer .header-widget-2style-normal a:not(.button){text-decoration:underline;}#widget-drawer .header-widget-2style-plain a:not(.button){text-decoration:none;}#widget-drawer .header-widget2 .widget-title{color:var(--global-palette9);}#widget-drawer .header-widget2{color:var(--global-palette8);}#widget-drawer .header-widget2 a:not(.button), #widget-drawer .header-widget2 .drawer-sub-toggle{color:var(--global-palette8);}#widget-drawer .header-widget2 a:not(.button):hover, #widget-drawer .header-widget2 .drawer-sub-toggle:hover{color:var(--global-palette9);}#mobile-secondary-site-navigation ul li{font-size:14px;}#mobile-secondary-site-navigation ul li a{padding-top:1em;padding-bottom:1em;}#mobile-secondary-site-navigation ul li > a, #mobile-secondary-site-navigation ul li.menu-item-has-children > .drawer-nav-drop-wrap{color:var(--global-palette8);}#mobile-secondary-site-navigation ul li.current-menu-item > a, #mobile-secondary-site-navigation ul li.current-menu-item.menu-item-has-children > .drawer-nav-drop-wrap{color:var(--global-palette-highlight);}#mobile-secondary-site-navigation ul li.menu-item-has-children .drawer-nav-drop-wrap, #mobile-secondary-site-navigation ul li:not(.menu-item-has-children) a{border-bottom:1px solid rgba(255,255,255,0.1);}#mobile-secondary-site-navigation:not(.drawer-navigation-parent-toggle-true) ul li.menu-item-has-children .drawer-nav-drop-wrap button{border-left:1px solid rgba(255,255,255,0.1);}\\n</style>\\n<link rel=\\'stylesheet\\' id=\\'kadence-simplelightbox-css-css\\' href=\\'https://www.theguitarlesson.com/guitar-pro-tabs/wp-content/themes/kadence/assets/css/simplelightbox.min.css\\' media=\\'all\\' />\\n<link rel=\\'stylesheet\\' id=\\'kadence-header-css\\' href=\\'https://www.theguitarlesson.com/guitar-pro-tabs/wp-content/themes/kadence/assets/css/header.min.css\\' media=\\'all\\' />\\n<link rel=\\'stylesheet\\' id=\\'kadence-content-css\\' href=\\'https://www.theguitarlesson.com/guitar-pro-tabs/wp-content/themes/kadence/assets/css/content.min.css\\' media=\\'all\\' />\\n<link rel=\\'stylesheet\\' id=\\'kadence-sidebar-css\\' href=\\'https://www.theguitarlesson.com/guitar-pro-tabs/wp-content/themes/kadence/assets/css/sidebar.min.css\\' media=\\'all\\' />\\n<link rel=\\'stylesheet\\' id=\\'kadence-footer-css\\' href=\\'https://www.theguitarlesson.com/guitar-pro-tabs/wp-content/themes/kadence/assets/css/footer.min.css\\' media=\\'all\\' />\\n<style id=\\'kadence-blocks-global-variables-inline-css\\'>\\n:root {--global-kb-font-size-sm:clamp(0.8rem, 0.73rem + 0.217vw, 0.9rem);--global-kb-font-size-md:clamp(1.1rem, 0.995rem + 0.326vw, 1.25rem);--global-kb-font-size-lg:clamp(1.75rem, 1.576rem + 0.543vw, 2rem);--global-kb-font-size-xl:clamp(2.25rem, 1.728rem + 1.63vw, 3rem);--global-kb-font-size-xxl:clamp(2.5rem, 1.456rem + 3.26vw, 4rem);--global-kb-font-size-xxxl:clamp(2.75rem, 0.489rem + 7.065vw, 6rem);}\\n</style>\\n<script src=\"https://www.theguitarlesson.com/guitar-pro-tabs/wp-includes/js/jquery/jquery.min.js\" id=\"jquery-core-js\"></script>\\n<script src=\"https://www.theguitarlesson.com/guitar-pro-tabs/wp-includes/js/jquery/jquery-migrate.min.js\" id=\"jquery-migrate-js\"></script>\\n<script src=\"https://www.theguitarlesson.com/guitar-pro-tabs/wp-content/plugins/indeed-social-media/files/js/front_end_header.js\" id=\"ism_front_end_h-js\"></script>\\n<script src=\"https://apis.google.com/js/plusone.js\" id=\"ism_plusone-js\"></script>\\n<script src=\"https://www.theguitarlesson.com/guitar-pro-tabs/wp-content/plugins/indeed-social-media/files/js/json2.js\" id=\"ism_json2-js\"></script>\\n<script src=\"https://www.theguitarlesson.com/guitar-pro-tabs/wp-content/plugins/indeed-social-media/files/js/jstorage.js\" id=\"ism_jstorage-js\"></script>\\n<script src=\"https://www.theguitarlesson.com/guitar-pro-tabs/wp-content/plugins/indeed-social-media/files/js/public.js\" id=\"ism-public-dynamic-js\"></script>\\n<script id=\"wp-disable-css-lazy-load-js-extra\">\\nvar WpDisableAsyncLinks = {\"wp-disable-font-awesome\":\"https:\\\\/\\\\/www.theguitarlesson.com\\\\/guitar-pro-tabs\\\\/wp-content\\\\/plugins\\\\/indeed-social-media\\\\/files\\\\/css\\\\/font-awesome.css\",\"wp-disable-google-fonts\":\"https:\\\\/\\\\/fonts.googleapis.com\\\\/css?family=Raleway\"};\\n</script>\\n<script src=\"https://www.theguitarlesson.com/guitar-pro-tabs/wp-content/plugins/wp-disable/js/css-lazy-load.min.js\" id=\"wp-disable-css-lazy-load-js\"></script>\\n<link rel=\"alternate\" type=\"application/json+oembed\" href=\"https://www.theguitarlesson.com/guitar-pro-tabs/wp-json/oembed/1.0/embed?url=https%3A%2F%2Fwww.theguitarlesson.com%2Fguitar-pro-tabs%2F0-9%2F31-minutos%2Ftema-central-31-minutos%2F\" />\\n<link rel=\"alternate\" type=\"text/xml+oembed\" href=\"https://www.theguitarlesson.com/guitar-pro-tabs/wp-json/oembed/1.0/embed?url=https%3A%2F%2Fwww.theguitarlesson.com%2Fguitar-pro-tabs%2F0-9%2F31-minutos%2Ftema-central-31-minutos%2F&#038;format=xml\" />\\n<meta name=\"og:url\" content=\"https://www.theguitarlesson.com/guitar-pro-tabs\" />\\n\\t<meta property=\"og:image\" content=\"https://www.theguitarlesson.com/guitar-pro-tabs/wp-content/plugins/indeed-social-media/files/images/wordpress-logo.png\"/>\\n\\t<meta property=\"og:title\" content=\"Tema Central &#8211; 31 Minutos\" />\\n\\t<script src=\"https://apis.google.com/js/platform.js\" async defer></script>\\t\\t<style id=\"wp-custom-css\">\\n\\t\\t\\t/*H2 and H3 styling*/ \\n\\narticle:not(.post-1784):not(.post-48006) .entry-content h2{\\n\\tmargin: 3em 0 0.5em 0;\\t\\n\\tposition: relative;\\n\\tline-height: 50px;\\t\\n\\tbackground: rgba(125,0,0, 0.9);\\n\\tpadding: 5px 15px;\\n\\tcolor: white;\\n\\tborder-radius: 3px;\\n\\tbox-shadow: inset 0 0 5px rgba(86,191,191, 0.5);\\n}\\n\\narticle:not(.post-1784) .entry-content h3  {\\n border-bottom: 1px solid var(--global-palette6);\\n\\tpadding-bottom: 5px;\\n\\tmargin-top: 60px;\\n\\t\\n}\\n\\n/*Rounded IMG */\\n.is-style-rounded img {\\n\\tborder-radius:10px !important;\\n}\\n\\n.ismLockerWrap{\\n\\tmin-height: 400px !important;\\n}\\t\\t</style>\\n\\t\\t</head>\\n\\n<body class=\"post-template-default single single-post postid-118 single-format-standard wp-custom-logo wp-embed-responsive footer-on-bottom hide-focus-outline link-style-standard has-sidebar content-title-style-above content-width-normal content-style-boxed content-vertical-padding-show non-transparent-header mobile-non-transparent-header\">\\n<div id=\"wrapper\" class=\"site wp-site-blocks\">\\n\\t\\t\\t<a class=\"skip-link screen-reader-text scroll-ignore\" href=\"#main\">Skip to content</a>\\n\\t\\t<header id=\"masthead\" class=\"site-header\" role=\"banner\" itemtype=\"https://schema.org/WPHeader\" itemscope>\\n\\t<div id=\"main-header\" class=\"site-header-wrap\">\\n\\t\\t<div class=\"site-header-inner-wrap\">\\n\\t\\t\\t<div class=\"site-header-upper-wrap\">\\n\\t\\t\\t\\t<div class=\"site-header-upper-inner-wrap\">\\n\\t\\t\\t\\t\\t<div class=\"site-top-header-wrap site-header-row-container site-header-focus-item site-header-row-layout-standard\" data-section=\"kadence_customizer_header_top\">\\n\\t<div class=\"site-header-row-container-inner\">\\n\\t\\t\\t\\t<div class=\"site-container\">\\n\\t\\t\\t<div class=\"site-top-header-inner-wrap site-header-row site-header-row-has-sides site-header-row-no-center\">\\n\\t\\t\\t\\t\\t\\t\\t\\t\\t<div class=\"site-header-top-section-left site-header-section site-header-section-left\">\\n\\t\\t\\t\\t\\t\\t<div class=\"site-header-item site-header-focus-item\" data-section=\"kadence_customizer_header_html\">\\n\\t<div class=\"header-html inner-link-style-normal\"><div class=\"header-html-inner\"><p>Download our entire Guitar Pro tabs <a href=\"https://www.theguitarlesson.com/guitar-pro-tabs/database-download/\">database here &gt;&gt;</a></p>\\n</div></div></div><!-- data-section=\"header_html\" -->\\n\\t\\t\\t\\t\\t</div>\\n\\t\\t\\t\\t\\t\\t\\t\\t\\t\\t\\t\\t\\t\\t\\t\\t\\t<div class=\"site-header-top-section-right site-header-section site-header-section-right\">\\n\\t\\t\\t\\t\\t\\t<div class=\"site-header-item site-header-focus-item\" data-section=\"kadence_customizer_header_search\">\\n\\t\\t<div class=\"search-toggle-open-container\">\\n\\t\\t\\t\\t\\t\\t<button class=\"search-toggle-open drawer-toggle search-toggle-style-default\" aria-label=\"View Search Form\" data-toggle-target=\"#search-drawer\" data-toggle-body-class=\"showing-popup-drawer-from-full\" aria-expanded=\"false\" data-set-focus=\"#search-drawer .search-field\"\\n\\t\\t\\t\\t\\t>\\n\\t\\t\\t\\t\\t\\t<span class=\"search-toggle-icon\"><span class=\"kadence-svg-iconset\"><svg aria-hidden=\"true\" class=\"kadence-svg-icon kadence-search-svg\" fill=\"currentColor\" version=\"1.1\" xmlns=\"http://www.w3.org/2000/svg\" width=\"26\" height=\"28\" viewBox=\"0 0 26 28\"><title>Search</title><path d=\"M18 13c0-3.859-3.141-7-7-7s-7 3.141-7 7 3.141 7 7 7 7-3.141 7-7zM26 26c0 1.094-0.906 2-2 2-0.531 0-1.047-0.219-1.406-0.594l-5.359-5.344c-1.828 1.266-4.016 1.937-6.234 1.937-6.078 0-11-4.922-11-11s4.922-11 11-11 11 4.922 11 11c0 2.219-0.672 4.406-1.937 6.234l5.359 5.359c0.359 0.359 0.578 0.875 0.578 1.406z\"></path>\\n\\t\\t\\t\\t</svg></span></span>\\n\\t\\t</button>\\n\\t</div>\\n\\t</div><!-- data-section=\"header_search\" -->\\n<div class=\"site-header-item site-header-focus-item\" data-section=\"kadence_customizer_header_divider\">\\n\\t<div class=\"header-divider\"></div></div><!-- data-section=\"header_divider\" -->\\n<div class=\"site-header-item site-header-focus-item\" data-section=\"kadence_customizer_header_social\">\\n\\t<div class=\"header-social-wrap\"><div class=\"header-social-inner-wrap element-social-inner-wrap social-show-label-false social-style-outline\"><a href=\"https://www.youtube.com/user/TomFontana\" aria-label=\"Facebook\" target=\"_blank\" rel=\"noopener noreferrer\"  class=\"social-button header-social-item social-link-facebook\"><span class=\"kadence-svg-iconset\"><svg class=\"kadence-svg-icon kadence-facebook-svg\" fill=\"currentColor\" version=\"1.1\" xmlns=\"http://www.w3.org/2000/svg\" width=\"32\" height=\"32\" viewBox=\"0 0 32 32\"><title>Facebook</title><path d=\"M31.997 15.999c0-8.836-7.163-15.999-15.999-15.999s-15.999 7.163-15.999 15.999c0 7.985 5.851 14.604 13.499 15.804v-11.18h-4.062v-4.625h4.062v-3.525c0-4.010 2.389-6.225 6.043-6.225 1.75 0 3.581 0.313 3.581 0.313v3.937h-2.017c-1.987 0-2.607 1.233-2.607 2.498v3.001h4.437l-0.709 4.625h-3.728v11.18c7.649-1.2 13.499-7.819 13.499-15.804z\"></path>\\n\\t\\t\\t\\t</svg></span></a><a href=\"https://www.facebook.com/TheGuitarLesson/\" aria-label=\"YouTube\" target=\"_blank\" rel=\"noopener noreferrer\"  class=\"social-button header-social-item social-link-youtube\"><span class=\"kadence-svg-iconset\"><svg class=\"kadence-svg-icon kadence-youtube-svg\" fill=\"currentColor\" version=\"1.1\" xmlns=\"http://www.w3.org/2000/svg\" width=\"28\" height=\"28\" viewBox=\"0 0 28 28\"><title>YouTube</title><path d=\"M11.109 17.625l7.562-3.906-7.562-3.953v7.859zM14 4.156c5.891 0 9.797 0.281 9.797 0.281 0.547 0.063 1.75 0.063 2.812 1.188 0 0 0.859 0.844 1.109 2.781 0.297 2.266 0.281 4.531 0.281 4.531v2.125s0.016 2.266-0.281 4.531c-0.25 1.922-1.109 2.781-1.109 2.781-1.062 1.109-2.266 1.109-2.812 1.172 0 0-3.906 0.297-9.797 0.297v0c-7.281-0.063-9.516-0.281-9.516-0.281-0.625-0.109-2.031-0.078-3.094-1.188 0 0-0.859-0.859-1.109-2.781-0.297-2.266-0.281-4.531-0.281-4.531v-2.125s-0.016-2.266 0.281-4.531c0.25-1.937 1.109-2.781 1.109-2.781 1.062-1.125 2.266-1.125 2.812-1.188 0 0 3.906-0.281 9.797-0.281v0z\"></path>\\n\\t\\t\\t\\t</svg></span></a></div></div></div><!-- data-section=\"header_social\" -->\\n\\t\\t\\t\\t\\t</div>\\n\\t\\t\\t\\t\\t\\t\\t</div>\\n\\t\\t</div>\\n\\t</div>\\n</div>\\n<div class=\"site-main-header-wrap site-header-row-container site-header-focus-item site-header-row-layout-standard kadence-sticky-header\" data-section=\"kadence_customizer_header_main\" data-reveal-scroll-up=\"true\" data-shrink=\"true\" data-shrink-height=\"60\">\\n\\t<div class=\"site-header-row-container-inner\">\\n\\t\\t\\t\\t<div class=\"site-container\">\\n\\t\\t\\t<div class=\"site-main-header-inner-wrap site-header-row site-header-row-has-sides site-header-row-no-center\">\\n\\t\\t\\t\\t\\t\\t\\t\\t\\t<div class=\"site-header-main-section-left site-header-section site-header-section-left\">\\n\\t\\t\\t\\t\\t\\t<div class=\"site-header-item site-header-focus-item\" data-section=\"title_tagline\">\\n\\t<div class=\"site-branding branding-layout-standard site-brand-logo-only\"><a class=\"brand has-logo-image\" href=\"https://www.theguitarlesson.com/guitar-pro-tabs/\" rel=\"home\" aria-label=\"Guitar Pro Tabs\"><img width=\"131\" height=\"110\" src=\"https://www.theguitarlesson.com/guitar-pro-tabs/wp-content/uploads/2021/11/theguitarlesson-logo.png\" class=\"custom-logo\" alt=\"Guitar Pro Tabs\" decoding=\"async\" /></a></div></div><!-- data-section=\"title_tagline\" -->\\n\\t\\t\\t\\t\\t</div>\\n\\t\\t\\t\\t\\t\\t\\t\\t\\t\\t\\t\\t\\t\\t\\t\\t\\t<div class=\"site-header-main-section-right site-header-section site-header-section-right\">\\n\\t\\t\\t\\t\\t\\t<div class=\"site-header-item site-header-focus-item site-header-item-main-navigation header-navigation-layout-stretch-false header-navigation-layout-fill-stretch-false\" data-section=\"kadence_customizer_primary_navigation\">\\n\\t\\t<nav id=\"site-navigation\" class=\"main-navigation header-navigation nav--toggle-sub header-navigation-style-underline-fullheight header-navigation-dropdown-animation-fade-down\" role=\"navigation\" aria-label=\"Primary Navigation\">\\n\\t\\t\\t\\t<div class=\"primary-menu-container header-menu-container\">\\n\\t\\t\\t<ul id=\"primary-menu\" class=\"menu\"><li id=\"menu-item-50007\" class=\"menu-item menu-item-type-post_type menu-item-object-page menu-item-50007\"><a href=\"https://www.theguitarlesson.com/guitar-pro-tabs/0-9-songs/\">0-9</a></li>\\n<li id=\"menu-item-50008\" class=\"menu-item menu-item-type-post_type menu-item-object-page menu-item-50008\"><a href=\"https://www.theguitarlesson.com/guitar-pro-tabs/a/\">A</a></li>\\n<li id=\"menu-item-50009\" class=\"menu-item menu-item-type-post_type menu-item-object-page menu-item-50009\"><a href=\"https://www.theguitarlesson.com/guitar-pro-tabs/b/\">B</a></li>\\n<li id=\"menu-item-50010\" class=\"menu-item menu-item-type-post_type menu-item-object-page menu-item-50010\"><a href=\"https://www.theguitarlesson.com/guitar-pro-tabs/c/\">C</a></li>\\n<li id=\"menu-item-50011\" class=\"menu-item menu-item-type-post_type menu-item-object-page menu-item-50011\"><a href=\"https://www.theguitarlesson.com/guitar-pro-tabs/d/\">D</a></li>\\n<li id=\"menu-item-50012\" class=\"menu-item menu-item-type-post_type menu-item-object-page menu-item-50012\"><a href=\"https://www.theguitarlesson.com/guitar-pro-tabs/e/\">E</a></li>\\n<li id=\"menu-item-50013\" class=\"menu-item menu-item-type-post_type menu-item-object-page menu-item-50013\"><a href=\"https://www.theguitarlesson.com/guitar-pro-tabs/f/\">F</a></li>\\n<li id=\"menu-item-50014\" class=\"menu-item menu-item-type-post_type menu-item-object-page menu-item-50014\"><a href=\"https://www.theguitarlesson.com/guitar-pro-tabs/g/\">G</a></li>\\n<li id=\"menu-item-50015\" class=\"menu-item menu-item-type-post_type menu-item-object-page menu-item-50015\"><a href=\"https://www.theguitarlesson.com/guitar-pro-tabs/h/\">H</a></li>\\n<li id=\"menu-item-50016\" class=\"menu-item menu-item-type-post_type menu-item-object-page menu-item-50016\"><a href=\"https://www.theguitarlesson.com/guitar-pro-tabs/i/\">I</a></li>\\n<li id=\"menu-item-50017\" class=\"menu-item menu-item-type-post_type menu-item-object-page menu-item-50017\"><a href=\"https://www.theguitarlesson.com/guitar-pro-tabs/j/\">J</a></li>\\n<li id=\"menu-item-50018\" class=\"menu-item menu-item-type-post_type menu-item-object-page menu-item-50018\"><a href=\"https://www.theguitarlesson.com/guitar-pro-tabs/k/\">K</a></li>\\n<li id=\"menu-item-50019\" class=\"menu-item menu-item-type-post_type menu-item-object-page menu-item-50019\"><a href=\"https://www.theguitarlesson.com/guitar-pro-tabs/l/\">L</a></li>\\n<li id=\"menu-item-50020\" class=\"menu-item menu-item-type-post_type menu-item-object-page menu-item-50020\"><a href=\"https://www.theguitarlesson.com/guitar-pro-tabs/m/\">M</a></li>\\n<li id=\"menu-item-50021\" class=\"menu-item menu-item-type-post_type menu-item-object-page menu-item-50021\"><a href=\"https://www.theguitarlesson.com/guitar-pro-tabs/n/\">N</a></li>\\n<li id=\"menu-item-50022\" class=\"menu-item menu-item-type-post_type menu-item-object-page menu-item-50022\"><a href=\"https://www.theguitarlesson.com/guitar-pro-tabs/o/\">O</a></li>\\n<li id=\"menu-item-50023\" class=\"menu-item menu-item-type-post_type menu-item-object-page menu-item-50023\"><a href=\"https://www.theguitarlesson.com/guitar-pro-tabs/p/\">P</a></li>\\n<li id=\"menu-item-50024\" class=\"menu-item menu-item-type-post_type menu-item-object-page menu-item-50024\"><a href=\"https://www.theguitarlesson.com/guitar-pro-tabs/q/\">Q</a></li>\\n<li id=\"menu-item-50025\" class=\"menu-item menu-item-type-post_type menu-item-object-page menu-item-50025\"><a href=\"https://www.theguitarlesson.com/guitar-pro-tabs/r/\">R</a></li>\\n<li id=\"menu-item-50026\" class=\"menu-item menu-item-type-post_type menu-item-object-page menu-item-50026\"><a href=\"https://www.theguitarlesson.com/guitar-pro-tabs/s/\">S</a></li>\\n<li id=\"menu-item-50027\" class=\"menu-item menu-item-type-post_type menu-item-object-page menu-item-50027\"><a href=\"https://www.theguitarlesson.com/guitar-pro-tabs/t/\">T</a></li>\\n<li id=\"menu-item-50028\" class=\"menu-item menu-item-type-post_type menu-item-object-page menu-item-50028\"><a href=\"https://www.theguitarlesson.com/guitar-pro-tabs/u/\">U</a></li>\\n<li id=\"menu-item-50029\" class=\"menu-item menu-item-type-post_type menu-item-object-page menu-item-50029\"><a href=\"https://www.theguitarlesson.com/guitar-pro-tabs/v/\">V</a></li>\\n<li id=\"menu-item-50030\" class=\"menu-item menu-item-type-post_type menu-item-object-page menu-item-50030\"><a href=\"https://www.theguitarlesson.com/guitar-pro-tabs/w/\">W</a></li>\\n<li id=\"menu-item-50031\" class=\"menu-item menu-item-type-post_type menu-item-object-page menu-item-50031\"><a href=\"https://www.theguitarlesson.com/guitar-pro-tabs/x/\">X</a></li>\\n<li id=\"menu-item-50032\" class=\"menu-item menu-item-type-post_type menu-item-object-page menu-item-50032\"><a href=\"https://www.theguitarlesson.com/guitar-pro-tabs/y/\">Y</a></li>\\n<li id=\"menu-item-50033\" class=\"menu-item menu-item-type-post_type menu-item-object-page menu-item-50033\"><a href=\"https://www.theguitarlesson.com/guitar-pro-tabs/z/\">Z</a></li>\\n</ul>\\t\\t</div>\\n\\t</nav><!-- #site-navigation -->\\n\\t</div><!-- data-section=\"primary_navigation\" -->\\n\\t\\t\\t\\t\\t</div>\\n\\t\\t\\t\\t\\t\\t\\t</div>\\n\\t\\t</div>\\n\\t</div>\\n</div>\\n\\t\\t\\t\\t</div>\\n\\t\\t\\t</div>\\n\\t\\t\\t\\t\\t</div>\\n\\t</div>\\n\\t\\n<div id=\"mobile-header\" class=\"site-mobile-header-wrap\">\\n\\t<div class=\"site-header-inner-wrap\">\\n\\t\\t<div class=\"site-header-upper-wrap\">\\n\\t\\t\\t<div class=\"site-header-upper-inner-wrap\">\\n\\t\\t\\t<div class=\"site-top-header-wrap site-header-focus-item site-header-row-layout-standard site-header-row-tablet-layout-default site-header-row-mobile-layout-default \">\\n\\t<div class=\"site-header-row-container-inner\">\\n\\t\\t<div class=\"site-container\">\\n\\t\\t\\t<div class=\"site-top-header-inner-wrap site-header-row site-header-row-only-center-column site-header-row-center-column\">\\n\\t\\t\\t\\t\\t\\t\\t\\t\\t\\t\\t\\t\\t<div class=\"site-header-top-section-center site-header-section site-header-section-center\">\\n\\t\\t\\t\\t\\t\\t<div class=\"site-header-item site-header-focus-item\" data-section=\"kadence_customizer_mobile_html\">\\n\\t<div class=\"mobile-html inner-link-style-normal\"><div class=\"mobile-html-inner\"><p>Download our GP tabs <a href=\"https://www.theguitarlesson.com/guitar-pro-tabs/database-download/\">database here &gt;&gt;</a></p>\\n</div></div></div><!-- data-section=\"mobile_html\" -->\\n\\t\\t\\t\\t\\t</div>\\n\\t\\t\\t\\t\\t\\t\\t\\t\\t\\t\\t</div>\\n\\t\\t</div>\\n\\t</div>\\n</div>\\n<div class=\"site-main-header-wrap site-header-focus-item site-header-row-layout-standard site-header-row-tablet-layout-default site-header-row-mobile-layout-default  kadence-sticky-header\" data-shrink=\"true\" data-reveal-scroll-up=\"false\" data-shrink-height=\"60\">\\n\\t<div class=\"site-header-row-container-inner\">\\n\\t\\t<div class=\"site-container\">\\n\\t\\t\\t<div class=\"site-main-header-inner-wrap site-header-row site-header-row-has-sides site-header-row-no-center\">\\n\\t\\t\\t\\t\\t\\t\\t\\t\\t<div class=\"site-header-main-section-left site-header-section site-header-section-left\">\\n\\t\\t\\t\\t\\t\\t<div class=\"site-header-item site-header-focus-item\" data-section=\"title_tagline\">\\n\\t<div class=\"site-branding mobile-site-branding branding-layout-standard branding-tablet-layout-inherit site-brand-logo-only branding-mobile-layout-inherit\"><a class=\"brand has-logo-image\" href=\"https://www.theguitarlesson.com/guitar-pro-tabs/\" rel=\"home\" aria-label=\"Guitar Pro Tabs\"><img width=\"131\" height=\"110\" src=\"https://www.theguitarlesson.com/guitar-pro-tabs/wp-content/uploads/2021/11/theguitarlesson-logo.png\" class=\"custom-logo\" alt=\"Guitar Pro Tabs\" decoding=\"async\" /></a></div></div><!-- data-section=\"title_tagline\" -->\\n\\t\\t\\t\\t\\t</div>\\n\\t\\t\\t\\t\\t\\t\\t\\t\\t\\t\\t\\t\\t\\t\\t\\t\\t<div class=\"site-header-main-section-right site-header-section site-header-section-right\">\\n\\t\\t\\t\\t\\t\\t<div class=\"site-header-item site-header-focus-item site-header-item-navgation-popup-toggle\" data-section=\"kadence_customizer_mobile_trigger\">\\n\\t\\t<div class=\"mobile-toggle-open-container\">\\n\\t\\t\\t\\t\\t\\t<button id=\"mobile-toggle\" class=\"menu-toggle-open drawer-toggle menu-toggle-style-default\" aria-label=\"Open menu\" data-toggle-target=\"#mobile-drawer\" data-toggle-body-class=\"showing-popup-drawer-from-right\" aria-expanded=\"false\" data-set-focus=\".menu-toggle-close\"\\n\\t\\t\\t\\t\\t>\\n\\t\\t\\t\\t\\t\\t<span class=\"menu-toggle-icon\"><span class=\"kadence-svg-iconset\"><svg aria-hidden=\"true\" class=\"kadence-svg-icon kadence-menu-svg\" fill=\"currentColor\" version=\"1.1\" xmlns=\"http://www.w3.org/2000/svg\" width=\"24\" height=\"24\" viewBox=\"0 0 24 24\"><title>Toggle Menu</title><path d=\"M3 13h18c0.552 0 1-0.448 1-1s-0.448-1-1-1h-18c-0.552 0-1 0.448-1 1s0.448 1 1 1zM3 7h18c0.552 0 1-0.448 1-1s-0.448-1-1-1h-18c-0.552 0-1 0.448-1 1s0.448 1 1 1zM3 19h18c0.552 0 1-0.448 1-1s-0.448-1-1-1h-18c-0.552 0-1 0.448-1 1s0.448 1 1 1z\"></path>\\n\\t\\t\\t\\t</svg></span></span>\\n\\t\\t</button>\\n\\t</div>\\n\\t</div><!-- data-section=\"mobile_trigger\" -->\\n\\t\\t\\t\\t\\t</div>\\n\\t\\t\\t\\t\\t\\t\\t</div>\\n\\t\\t</div>\\n\\t</div>\\n</div>\\n\\t\\t\\t</div>\\n\\t\\t</div>\\n\\t\\t\\t</div>\\n</div>\\n</header><!-- #masthead -->\\n\\n\\t<div id=\"inner-wrap\" class=\"wrap hfeed kt-clear\">\\n\\t\\t<section role=\"banner\" class=\"entry-hero post-hero-section entry-hero-layout-standard\">\\n\\t<div class=\"entry-hero-container-inner\">\\n\\t\\t<div class=\"hero-section-overlay\"></div>\\n\\t\\t<div class=\"hero-container site-container\">\\n\\t\\t\\t<header class=\"entry-header post-title title-align-inherit title-tablet-align-inherit title-mobile-align-inherit\">\\n\\t\\t\\t\\t<nav id=\"kadence-breadcrumbs\" aria-label=\"Breadcrumbs\"  class=\"kadence-breadcrumbs\"><div class=\"kadence-breadcrumb-container\"><span><a href=\"https://www.theguitarlesson.com/guitar-pro-tabs/\" title=\"Home\" itemprop=\"url\" class=\"kadence-bc-home kadence-bc-home-icon\" ><span><span class=\"kadence-svg-iconset svg-baseline\"><svg aria-hidden=\"true\" class=\"kadence-svg-icon kadence-home-svg\" fill=\"currentColor\" version=\"1.1\" xmlns=\"http://www.w3.org/2000/svg\" width=\"24\" height=\"24\" viewBox=\"0 0 24 24\"><title>Home</title><path d=\"M9.984 20.016h-4.969v-8.016h-3l9.984-9 9.984 9h-3v8.016h-4.969v-6h-4.031v6z\"></path>\\n\\t\\t\\t\\t</svg></span></span></a></span> <span class=\"bc-delimiter\">/</span> <span><a href=\"https://www.theguitarlesson.com/guitar-pro-tabs/category/0-9/\" itemprop=\"url\" ><span>0-9</span></a></span> <span class=\"bc-delimiter\">/</span> <span><a href=\"https://www.theguitarlesson.com/guitar-pro-tabs/category/0-9/31-minutos/\" itemprop=\"url\" ><span>31 Minutos</span></a></span> <span class=\"bc-delimiter\">/</span> </div></nav><h1 class=\"entry-title\">Tema Central &#8211; 31 Minutos</h1>\\t\\t\\t</header><!-- .entry-header -->\\n\\t\\t</div>\\n\\t</div>\\n</section><!-- .entry-hero -->\\n<div id=\"primary\" class=\"content-area\">\\n\\t<div class=\"content-container site-container\">\\n\\t\\t<main id=\"main\" class=\"site-main\" role=\"main\">\\n\\t\\t\\t\\t\\t\\t<div class=\"content-wrap\">\\n\\t\\t\\t\\t<article id=\"post-118\" class=\"entry content-bg single-entry post-118 post type-post status-publish format-standard hentry category-31-minutos\">\\n\\t<div class=\"entry-content-wrap\">\\n\\t\\t\\n<div class=\"entry-content single-content\">\\n\\t  <span class=\"ism-js-include-fb-js\"></span>\\r\\n<script async src=\"//pagead2.googlesyndication.com/pagead/js/adsbygoogle.js\"></script>\\n            <!-- TGL guitar pro post top -->\\n            <ins class=\"adsbygoogle\"\\n                 style=\"display:block\"\\n                 data-ad-client=\"ca-pub-8132484999004954\"\\n                 data-ad-slot=\"8883463446\"\\n                 data-ad-format=\"auto\"></ins>\\n            <script>\\n            (adsbygoogle = window.adsbygoogle || []).push({});\\n            </script><span class=\"ism-js-do-add-timeout\"\\r\\n\\t\\t\\t\\t\\t\\t\\t\\tdata-timeout=\"20\"\\r\\n\\t\\t\\t\\t\\t\\t\\t\\tdata-content_id=\"#indeed_locker_content_2577\"\\r\\n\\t\\t\\t\\t\\t\\t\\t\\tdata-locker_id=\"indeed_locker_2577\"\\r\\n\\t\\t></span><div id=\\'indeed_locker_content_2577\\' class=\\'ism-display-none\\'>\\n<p><a href=\"https://www.theguitarlesson.com/guitar-pro-tabs/song-files/31 Minutos - Tema Central.gp3\"><img decoding=\"async\" title=\"Download Guitar Pro Tab File\" src=\"https://www.theguitarlesson.com/guitar-pro-tabs/guitar-pro-tab-download.jpg\" alt=\"Download Guitar Pro Tab File\" align=\"left\" /></a><br /> <strong> Song:</strong> Tema Central<br /> <strong> Artist/group:</strong> 31 Minutos<br /> <strong> File Name:</strong> <a href=\"https://www.theguitarlesson.com/guitar-pro-tabs/song-files/31 Minutos - Tema Central.gp3\">31 Minutos &#8211; Tema Central.gp3<br /> </a><strong>File size:</strong> 8 kb<br /> <strong>File type:</strong> .gp3</p>\\n<p> </div><div id=\\'indeed_locker_2577\\' class=\\'ism-display-none\\' >\\r\\n\\t\\t\\t\\t<div class=\\'ism_locker_5\\'>\\r\\n\\t\\t\\t\\t  <div class=\\'lk_top_side\\'></div>\\r\\n\\t\\t\\t\\t   <div class=\\'lock_content\\'></p>\\n<h4>Unlock these tabs!</h4>\\n<p>To get free, instant access to all of our 50,000 tabs, please share our site with your friends, or wait 20 seconds. Every share helps, thanks!</p>\\n<p>  <div class=\\'lock_buttons\\'><div class=\"ism_wrap ism_template_5  ism-locker ism-default_div_parent\" id=\"indeed_sm_wrap_2998\" ><div id=\"fb_desc-1554\" data-ism_description=\"TheGuitarLesson.com has beginner guitar lessons that work!\" class=\"ism-shareon\"></div><a href=\"javascript:void(0)\" class=\"ism_link\" onClick=\"shareFacebookWithoutI(\\'https://www.theguitarlesson.com/\\',\\'TheGuitarLesson.com\\', \\'#indeed_locker_2577\\', \\'#indeed_locker_content_2577\\', \\'#fb_desc-1554\\', \\'1\\');ism_fake_increment(\\'.facebook_share_count\\', \\'facebook\\', \\'https://www.theguitarlesson.com/\\');\"><div class=\"ism_item_wrapper ism-align-horizontal\"><div class=\"ism_item ism_box_facebook\"><i class=\"fa-ism fa-facebook-ism\"></i><span class=\"ism_share_label\">Facebook</span><div class=\"clear\"></div></div></div></a><a href=\"javascript:void(0)\" class=\"ism_link\" onClick=\"ism_general_locker(\\'#indeed_locker_2577\\', \\'#indeed_locker_content_2577\\', \\'1\\', \\'tw\\', \\'https://www.theguitarlesson.com/\\', \\'https://www.theguitarlesson.com/guitar-pro-tabs/wp-content/plugins/indeed-social-media/files/images/wordpress-logo.png\\', \\'TheGuitarLesson.com\\', \\'TheGuitarLesson.com has beginner guitar lessons that work!\\');ism_fake_increment(\\'.twitter_share_count\\', \\'twitter\\', \\'https://www.theguitarlesson.com/\\');\"><div class=\"ism_item_wrapper ism-align-horizontal\"><div class=\"ism_item ism_box_twitter\"><i class=\"fa-ism fa-twitter-ism\"></i><span class=\"ism_share_label\">Twitter</span><div class=\"clear\"></div></div></div></a></div></div>\\r\\n\\t\\t\\t\\t   </div><div class=\\'ism_timeout_wrapper\\'><div id=\\'line_indeed_locker_2577\\' class=\\'ism_timeout_line\\'></div></div></div></div><div class=\\'ism-before-row ism-display-none\\' data-ism_overlock=\\'blur\\' data-ism_url=\\'https://www.theguitarlesson.com/\\' data-vc_set=\\'0\\' data-lockerId=\\'indeed_locker_2577\\' data-id=\\'indeed_locker_content_2577\\' ></div><span id=\"more-118\"></span> </p>\\n<h4><strong>Guitar learning tips and advice:</strong></h4>\\n<ul>\\n<li>Understanding why you play what you play will really develop your guitar skills. Have a look at some <a href=\"https://www.theguitarlesson.com/guitar-theory/\">guitar theory</a>. </li>\\n<li>Beginner guitarists require <a href=\"https://www.theguitarlesson.com/\">easy guitar lessons</a>. If you want to learn easily and quickly, have a look at our free basic video guitar tutorials.</li>\\n</ul>\\n<h3 class=\\'heading_rel_posts\\'>More popular GP tabs from 31 Minutos</h3>\\n<ul>\\n<li>\\n<div id=\\'content_rel_posts\\'> <a href=\\'https://www.theguitarlesson.com/guitar-pro-tabs/0-9/31-minutos/yo-nunca-vi-television-luego-si-y-despues-no-31-minutos/\\'> Yo Nunca Vi Television (Luego Si Y Despues No) &#8211; 31 Minutos </a></div>\\n</li>\\n<li>\\n<div id=\\'content_rel_posts\\'> <a href=\\'https://www.theguitarlesson.com/guitar-pro-tabs/0-9/31-minutos/diente-blanco-no-te-vayas-31-minutos/\\'> Diente Blanco, No Te Vayas &#8211; 31 Minutos </a></div>\\n</li>\\n<li>\\n<div id=\\'content_rel_posts\\'> <a href=\\'https://www.theguitarlesson.com/guitar-pro-tabs/0-9/31-minutos/mico-el-micofono-31-minutos/\\'> Mico, El Micofono &#8211; 31 Minutos </a></div>\\n</li>\\n<li>\\n<div id=\\'content_rel_posts\\'> <a href=\\'https://www.theguitarlesson.com/guitar-pro-tabs/0-9/31-minutos/mico-el-micofono-31-minutos/\\'> Mico El Micofono &#8211; 31 Minutos </a></div>\\n</li>\\n<li>\\n<div id=\\'content_rel_posts\\'> <a href=\\'https://www.theguitarlesson.com/guitar-pro-tabs/0-9/31-minutos/equilibrio-espiritual-31-minutos/\\'> Equilibrio Espiritual &#8211; 31 Minutos </a></div>\\n</li>\\n</ul>\\n</div><!-- .entry-content -->\\n\\t</div>\\n</article><!-- #post-118 -->\\n\\n\\t\\t\\t</div>\\n\\t\\t\\t\\t\\t</main><!-- #main -->\\n\\t\\t<aside id=\"secondary\" role=\"complementary\" class=\"primary-sidebar widget-area sidebar-slug-sidebar-primary sidebar-link-style-normal\">\\n\\t<div class=\"sidebar-inner-wrap\">\\n\\t\\t<section id=\"search-2\" class=\"widget widget_search\"><form role=\"search\" method=\"get\" class=\"search-form\" action=\"https://www.theguitarlesson.com/guitar-pro-tabs/\">\\n\\t\\t\\t\\t<label>\\n\\t\\t\\t\\t\\t<span class=\"screen-reader-text\">Search for:</span>\\n\\t\\t\\t\\t\\t<input type=\"search\" class=\"search-field\" placeholder=\"Search &hellip;\" value=\"\" name=\"s\" />\\n\\t\\t\\t\\t</label>\\n\\t\\t\\t\\t<input type=\"submit\" class=\"search-submit\" value=\"Search\" />\\n\\t\\t\\t<div class=\"kadence-search-icon-wrap\"><span class=\"kadence-svg-iconset\"><svg aria-hidden=\"true\" class=\"kadence-svg-icon kadence-search-svg\" fill=\"currentColor\" version=\"1.1\" xmlns=\"http://www.w3.org/2000/svg\" width=\"26\" height=\"28\" viewBox=\"0 0 26 28\"><title>Search</title><path d=\"M18 13c0-3.859-3.141-7-7-7s-7 3.141-7 7 3.141 7 7 7 7-3.141 7-7zM26 26c0 1.094-0.906 2-2 2-0.531 0-1.047-0.219-1.406-0.594l-5.359-5.344c-1.828 1.266-4.016 1.937-6.234 1.937-6.078 0-11-4.922-11-11s4.922-11 11-11 11 4.922 11 11c0 2.219-0.672 4.406-1.937 6.234l5.359 5.359c0.359 0.359 0.578 0.875 0.578 1.406z\"></path>\\n\\t\\t\\t\\t</svg></span></div></form></section><section id=\"block-2\" class=\"widget widget_block widget_text\">\\n<p><strong>49,794</strong>&nbsp;tab files, from<br><strong>6,496</strong>&nbsp;groups and artists.</p>\\n</section><section id=\"block-3\" class=\"widget widget_block\"><p><a href=\"https://www.guitar-pro.com/fr/index.php?pg=produits#ae44-32\"><img decoding=\"async\" src=\"https://lb.affilae.com/imp/5d24c4d0e58aca72618a59f1/5d7627b2a94f0b3531f29bef/5d8caa2dd2e89d056b267a69/https://s3-eu-west-1.amazonaws.com/aeup/uploads/programs/5d24c4d0e58aca72618a59f1/elements/5d8caa2dd2e89d056b267a67.gif\"></a></p></section><section id=\"block-5\" class=\"widget widget_block\">\\n<h3 class=\"wp-block-heading\">POPULAR ARTISTS</h3>\\n</section><section id=\"block-6\" class=\"widget widget_block widget_text\">\\n<p>1.&nbsp;<a href=\"https://www.theguitarlesson.com/guitar-pro-tabs/category/m/metallica/\">Metallica</a>&nbsp;(577)<br>2.&nbsp;<a href=\"https://www.theguitarlesson.com/guitar-pro-tabs/category/a/acdc/\">ACDC</a>&nbsp;(146)<br>3.&nbsp;<a href=\"https://www.theguitarlesson.com/guitar-pro-tabs/category/s/santana-carlos/\">Santana, Carlos</a>&nbsp;(49)<br>4.&nbsp;<a href=\"https://www.theguitarlesson.com/guitar-pro-tabs/category/c/clapton-eric/\">Clapton, Eric</a>&nbsp;(221)<br>5.&nbsp;<a href=\"https://www.theguitarlesson.com/guitar-pro-tabs/category/s/satriani-joe/\">Satriani, Joe</a>&nbsp;(184)</p>\\n</section><section id=\"block-7\" class=\"widget widget_block\">\\n<h3 class=\"wp-block-heading\">POPULAR SONGS</h3>\\n</section><section id=\"block-8\" class=\"widget widget_block widget_text\">\\n<p>1.&nbsp;<a href=\"https://www.theguitarlesson.com/guitar-pro-tabs/g/guns-n-roses/sweet-child-o-mine-guns-n-roses/\">Sweet Child O\\' Mine tabs</a><br>2.&nbsp;<a href=\"https://www.theguitarlesson.com/guitar-pro-tabs/m/metallica/nothing-else-matters-2-metallica/\">Nothing Else Matters tabs</a><br>3.&nbsp;<a href=\"https://www.theguitarlesson.com/guitar-pro-tabs/s/satriani-joe/cannon-in-c-part-1-satriani-joe/\">Canon Rock in C tabs</a><br>4.&nbsp;<a href=\"https://www.theguitarlesson.com/guitar-pro-tabs/c/clapton-eric/tears-in-heaven-clapton-eric/\">Tears in Heaven tabs</a><br>5.&nbsp;<a href=\"https://www.theguitarlesson.com/guitar-pro-tabs/e/eagles-the/hotel-california-7-eagles-the/\">Hotel California tabs</a></p>\\n</section>\\t</div>\\n</aside><!-- #secondary -->\\n\\t</div>\\n</div><!-- #primary -->\\n<span id=\"kadence-conversion-end-of-content\"></span>\\t</div><!-- #inner-wrap -->\\n\\t<footer id=\"colophon\" class=\"site-footer\" role=\"contentinfo\">\\n\\t<div class=\"site-footer-wrap\">\\n\\t\\t<div class=\"site-middle-footer-wrap site-footer-row-container site-footer-focus-item site-footer-row-layout-standard site-footer-row-tablet-layout-default site-footer-row-mobile-layout-default\" data-section=\"kadence_customizer_footer_middle\">\\n\\t<div class=\"site-footer-row-container-inner\">\\n\\t\\t\\t\\t<div class=\"site-container\">\\n\\t\\t\\t<div class=\"site-middle-footer-inner-wrap site-footer-row site-footer-row-columns-3 site-footer-row-column-layout-equal site-footer-row-tablet-column-layout-default site-footer-row-mobile-column-layout-row ft-ro-dir-row ft-ro-collapse-normal ft-ro-t-dir-default ft-ro-m-dir-default ft-ro-lstyle-plain\">\\n\\t\\t\\t\\t\\t\\t\\t\\t\\t<div class=\"site-footer-middle-section-1 site-footer-section footer-section-inner-items-1\">\\n\\t\\t\\t\\t\\t\\t<div class=\"footer-widget-area widget-area site-footer-focus-item footer-widget1 content-align-default content-tablet-align-default content-mobile-align-default content-valign-default content-tablet-valign-default content-mobile-valign-default\" data-section=\"sidebar-widgets-footer1\">\\n\\t<div class=\"footer-widget-area-inner site-info-inner\">\\n\\t\\t<section id=\"block-20\" class=\"widget widget_block widget_text\">\\n<p><strong>ABOUT US </strong></p>\\n</section><section id=\"block-21\" class=\"widget widget_block widget_text\">\\n<p>TheGuitarLesson.com, created by Tom Fontana, is dedicated to bringing the highest quality guitar tutorials to beginner guitarists. Through creating fun and engaging guitar lessons, we aim to spread our love of the guitar to as many new players as possible.</p>\\n</section>\\t</div>\\n</div><!-- .footer-widget1 -->\\n\\t\\t\\t\\t\\t</div>\\n\\t\\t\\t\\t\\t\\t\\t\\t\\t\\t<div class=\"site-footer-middle-section-2 site-footer-section footer-section-inner-items-1\">\\n\\t\\t\\t\\t\\t\\t<div class=\"footer-widget-area widget-area site-footer-focus-item footer-widget2 content-align-default content-tablet-align-default content-mobile-align-default content-valign-default content-tablet-valign-default content-mobile-valign-default\" data-section=\"sidebar-widgets-footer2\">\\n\\t<div class=\"footer-widget-area-inner site-info-inner\">\\n\\t\\t<section id=\"block-17\" class=\"widget widget_block widget_text\">\\n<p><strong>POPULAR PAGES</strong></p>\\n</section><section id=\"block-18\" class=\"widget widget_block widget_text\">\\n<p><a href=\"https://www.theguitarlesson.com/articles/teach-yourself-guitar/\">Teach yourself guitar</a><br><a href=\"https://www.theguitarlesson.com/guitar-lesson-blog/guitar-lesson-review/jamplay-review/\">Jamplay review</a><br><a href=\"https://www.theguitarlesson.com/guitar-lesson-blog/guitar-lesson-review/guitar-tricks-vs-jamplay/\">GuitarTricks review</a></p>\\n</section>\\t</div>\\n</div><!-- .footer-widget2 -->\\n\\t\\t\\t\\t\\t</div>\\n\\t\\t\\t\\t\\t\\t\\t\\t\\t\\t<div class=\"site-footer-middle-section-3 site-footer-section footer-section-inner-items-1\">\\n\\t\\t\\t\\t\\t\\t<div class=\"footer-widget-area widget-area site-footer-focus-item footer-widget3 content-align-default content-tablet-align-default content-mobile-align-default content-valign-default content-tablet-valign-default content-mobile-valign-default\" data-section=\"sidebar-widgets-footer3\">\\n\\t<div class=\"footer-widget-area-inner site-info-inner\">\\n\\t\\t<section id=\"block-12\" class=\"widget widget_block widget_text\">\\n<p><strong>COMPANY</strong></p>\\n</section><section id=\"block-13\" class=\"widget widget_block widget_text\">\\n<p><a href=\"https://www.theguitarlesson.com/about-us/\">About</a><br><a rel=\"nofollow\" href=\"https://www.theguitarlesson.com/faq/\">FAQ</a><br><a rel=\"nofollow\" href=\"https://www.theguitarlesson.com/login\">Member login</a></p>\\n</section><section id=\"block-14\" class=\"widget widget_block\"><p><a href=\"#\" onclick=\"window.open(\\'https://www.sitelock.com/verify.php?site=theguitarlesson.com\\',\\'SiteLock\\',\\'width=600,height=600,left=160,top=170\\');\"><img decoding=\"async\" class=\"img-responsive\" alt=\"SiteLock\" title=\"SiteLock\" src=\"//shield.sitelock.com/shield/theguitarlesson.com\"></a></p></section>\\t</div>\\n</div><!-- .footer-widget3 -->\\n\\t\\t\\t\\t\\t</div>\\n\\t\\t\\t\\t\\t\\t\\t\\t</div>\\n\\t\\t</div>\\n\\t</div>\\n</div>\\n<div class=\"site-bottom-footer-wrap site-footer-row-container site-footer-focus-item site-footer-row-layout-standard site-footer-row-tablet-layout-default site-footer-row-mobile-layout-default\" data-section=\"kadence_customizer_footer_bottom\">\\n\\t<div class=\"site-footer-row-container-inner\">\\n\\t\\t\\t\\t<div class=\"site-container\">\\n\\t\\t\\t<div class=\"site-bottom-footer-inner-wrap site-footer-row site-footer-row-columns-1 site-footer-row-column-layout-row site-footer-row-tablet-column-layout-default site-footer-row-mobile-column-layout-row ft-ro-dir-row ft-ro-collapse-normal ft-ro-t-dir-default ft-ro-m-dir-default ft-ro-lstyle-plain\">\\n\\t\\t\\t\\t\\t\\t\\t\\t\\t<div class=\"site-footer-bottom-section-1 site-footer-section footer-section-inner-items-1\">\\n\\t\\t\\t\\t\\t\\t\\n<div class=\"footer-widget-area site-info site-footer-focus-item content-align-default content-tablet-align-default content-mobile-align-default content-valign-default content-tablet-valign-default content-mobile-valign-default\" data-section=\"kadence_customizer_footer_html\">\\n\\t<div class=\"footer-widget-area-inner site-info-inner\">\\n\\t\\t<div class=\"footer-html inner-link-style-plain\"><div class=\"footer-html-inner\"><p>&copy; TheGuitarLesson.com 2024 | <a href=\"https://www.theguitarlesson.com/contact\" rel=\"nofollow\">Contact</a> | <a href=\"https://www.theguitarlesson.com/privacy/\" rel=\"nofollow\">Terms &amp; privacy</a></p>\\n</div></div>\\t</div>\\n</div><!-- .site-info -->\\n\\t\\t\\t\\t\\t</div>\\n\\t\\t\\t\\t\\t\\t\\t\\t</div>\\n\\t\\t</div>\\n\\t</div>\\n</div>\\n\\t</div>\\n</footer><!-- #colophon -->\\n\\n</div><!-- #wrapper -->\\n\\n\\t\\t\\t<script>document.documentElement.style.setProperty(\\'--scrollbar-offset\\', window.innerWidth - document.documentElement.clientWidth + \\'px\\' );</script>\\n\\t\\t\\t<a id=\"kt-scroll-up\" tabindex=\"-1\" aria-hidden=\"true\" aria-label=\"Scroll to top\" href=\"#wrapper\" class=\"kadence-scroll-to-top scroll-up-wrap scroll-ignore scroll-up-side-right scroll-up-style-outline vs-lg-true vs-md-true vs-sm-false\"><span class=\"kadence-svg-iconset\"><svg aria-hidden=\"true\" class=\"kadence-svg-icon kadence-chevron-up2-svg\" fill=\"currentColor\" version=\"1.1\" xmlns=\"http://www.w3.org/2000/svg\" width=\"28\" height=\"28\" viewBox=\"0 0 28 28\"><title>Scroll to top</title><path d=\"M26.297 20.797l-2.594 2.578c-0.391 0.391-1.016 0.391-1.406 0l-8.297-8.297-8.297 8.297c-0.391 0.391-1.016 0.391-1.406 0l-2.594-2.578c-0.391-0.391-0.391-1.031 0-1.422l11.594-11.578c0.391-0.391 1.016-0.391 1.406 0l11.594 11.578c0.391 0.391 0.391 1.031 0 1.422z\"></path>\\n\\t\\t\\t\\t</svg></span></a><button id=\"kt-scroll-up-reader\" href=\"#wrapper\" aria-label=\"Scroll to top\" class=\"kadence-scroll-to-top scroll-up-wrap scroll-ignore scroll-up-side-right scroll-up-style-outline vs-lg-true vs-md-true vs-sm-false\"><span class=\"kadence-svg-iconset\"><svg aria-hidden=\"true\" class=\"kadence-svg-icon kadence-chevron-up2-svg\" fill=\"currentColor\" version=\"1.1\" xmlns=\"http://www.w3.org/2000/svg\" width=\"28\" height=\"28\" viewBox=\"0 0 28 28\"><title>Scroll to top</title><path d=\"M26.297 20.797l-2.594 2.578c-0.391 0.391-1.016 0.391-1.406 0l-8.297-8.297-8.297 8.297c-0.391 0.391-1.016 0.391-1.406 0l-2.594-2.578c-0.391-0.391-0.391-1.031 0-1.422l11.594-11.578c0.391-0.391 1.016-0.391 1.406 0l11.594 11.578c0.391 0.391 0.391 1.031 0 1.422z\"></path>\\n\\t\\t\\t\\t</svg></span></button>\\t<div id=\"mobile-drawer\" class=\"popup-drawer popup-drawer-layout-sidepanel popup-drawer-animation-fade popup-drawer-side-right\" data-drawer-target-string=\"#mobile-drawer\"\\n\\t\\t\\t>\\n\\t\\t<div class=\"drawer-overlay\" data-drawer-target-string=\"#mobile-drawer\"></div>\\n\\t\\t<div class=\"drawer-inner\">\\n\\t\\t\\t\\t\\t\\t<div class=\"drawer-header\">\\n\\t\\t\\t\\t<button class=\"menu-toggle-close drawer-toggle\" aria-label=\"Close menu\"  data-toggle-target=\"#mobile-drawer\" data-toggle-body-class=\"showing-popup-drawer-from-right\" aria-expanded=\"false\" data-set-focus=\".menu-toggle-open\"\\n\\t\\t\\t\\t\\t\\t\\t>\\n\\t\\t\\t\\t\\t<span class=\"toggle-close-bar\"></span>\\n\\t\\t\\t\\t\\t<span class=\"toggle-close-bar\"></span>\\n\\t\\t\\t\\t</button>\\n\\t\\t\\t</div>\\n\\t\\t\\t<div class=\"drawer-content mobile-drawer-content content-align-left content-valign-top\">\\n\\t\\t\\t\\t\\t\\t\\t\\t<div class=\"site-header-item site-header-focus-item\" data-section=\"kadence_customizer_header_mobile_account\">\\n\\t<div class=\"header-mobile-account-wrap header-account-control-wrap header-account-action-link header-account-style-icon_label\"><a href=\"#\" class=\"header-account-button\"><span class=\"kadence-svg-iconset\"><svg class=\"kadence-svg-icon kadence-account-svg\" fill=\"currentColor\" version=\"1.1\" xmlns=\"http://www.w3.org/2000/svg\" width=\"24\" height=\"24\" viewBox=\"0 0 24 24\"><title>Account</title><path d=\"M21 21v-2c0-1.38-0.561-2.632-1.464-3.536s-2.156-1.464-3.536-1.464h-8c-1.38 0-2.632 0.561-3.536 1.464s-1.464 2.156-1.464 3.536v2c0 0.552 0.448 1 1 1s1-0.448 1-1v-2c0-0.829 0.335-1.577 0.879-2.121s1.292-0.879 2.121-0.879h8c0.829 0 1.577 0.335 2.121 0.879s0.879 1.292 0.879 2.121v2c0 0.552 0.448 1 1 1s1-0.448 1-1zM17 7c0-1.38-0.561-2.632-1.464-3.536s-2.156-1.464-3.536-1.464-2.632 0.561-3.536 1.464-1.464 2.156-1.464 3.536 0.561 2.632 1.464 3.536 2.156 1.464 3.536 1.464 2.632-0.561 3.536-1.464 1.464-2.156 1.464-3.536zM15 7c0 0.829-0.335 1.577-0.879 2.121s-1.292 0.879-2.121 0.879-1.577-0.335-2.121-0.879-0.879-1.292-0.879-2.121 0.335-1.577 0.879-2.121 1.292-0.879 2.121-0.879 1.577 0.335 2.121 0.879 0.879 1.292 0.879 2.121z\"></path>\\n\\t\\t\\t\\t</svg></span>\\t\\t\\t\\t\\t\\t<span class=\"header-account-label\">Login</span>\\n\\t\\t\\t\\t\\t\\t</a></div></div><!-- data-section=\"header_mobile_account\" -->\\n<div class=\"site-header-item site-header-focus-item site-header-item-mobile-navigation mobile-navigation-layout-stretch-false\" data-section=\"kadence_customizer_mobile_navigation\">\\n\\t\\t<nav id=\"mobile-site-navigation\" class=\"mobile-navigation drawer-navigation drawer-navigation-parent-toggle-false\" role=\"navigation\" aria-label=\"Primary Mobile Navigation\">\\n\\t\\t\\t\\t<div class=\"mobile-menu-container drawer-menu-container\">\\n\\t\\t\\t<ul id=\"mobile-menu\" class=\"menu has-collapse-sub-nav\"><li class=\"menu-item menu-item-type-post_type menu-item-object-page menu-item-50007\"><a href=\"https://www.theguitarlesson.com/guitar-pro-tabs/0-9-songs/\">0-9</a></li>\\n<li class=\"menu-item menu-item-type-post_type menu-item-object-page menu-item-50008\"><a href=\"https://www.theguitarlesson.com/guitar-pro-tabs/a/\">A</a></li>\\n<li class=\"menu-item menu-item-type-post_type menu-item-object-page menu-item-50009\"><a href=\"https://www.theguitarlesson.com/guitar-pro-tabs/b/\">B</a></li>\\n<li class=\"menu-item menu-item-type-post_type menu-item-object-page menu-item-50010\"><a href=\"https://www.theguitarlesson.com/guitar-pro-tabs/c/\">C</a></li>\\n<li class=\"menu-item menu-item-type-post_type menu-item-object-page menu-item-50011\"><a href=\"https://www.theguitarlesson.com/guitar-pro-tabs/d/\">D</a></li>\\n<li class=\"menu-item menu-item-type-post_type menu-item-object-page menu-item-50012\"><a href=\"https://www.theguitarlesson.com/guitar-pro-tabs/e/\">E</a></li>\\n<li class=\"menu-item menu-item-type-post_type menu-item-object-page menu-item-50013\"><a href=\"https://www.theguitarlesson.com/guitar-pro-tabs/f/\">F</a></li>\\n<li class=\"menu-item menu-item-type-post_type menu-item-object-page menu-item-50014\"><a href=\"https://www.theguitarlesson.com/guitar-pro-tabs/g/\">G</a></li>\\n<li class=\"menu-item menu-item-type-post_type menu-item-object-page menu-item-50015\"><a href=\"https://www.theguitarlesson.com/guitar-pro-tabs/h/\">H</a></li>\\n<li class=\"menu-item menu-item-type-post_type menu-item-object-page menu-item-50016\"><a href=\"https://www.theguitarlesson.com/guitar-pro-tabs/i/\">I</a></li>\\n<li class=\"menu-item menu-item-type-post_type menu-item-object-page menu-item-50017\"><a href=\"https://www.theguitarlesson.com/guitar-pro-tabs/j/\">J</a></li>\\n<li class=\"menu-item menu-item-type-post_type menu-item-object-page menu-item-50018\"><a href=\"https://www.theguitarlesson.com/guitar-pro-tabs/k/\">K</a></li>\\n<li class=\"menu-item menu-item-type-post_type menu-item-object-page menu-item-50019\"><a href=\"https://www.theguitarlesson.com/guitar-pro-tabs/l/\">L</a></li>\\n<li class=\"menu-item menu-item-type-post_type menu-item-object-page menu-item-50020\"><a href=\"https://www.theguitarlesson.com/guitar-pro-tabs/m/\">M</a></li>\\n<li class=\"menu-item menu-item-type-post_type menu-item-object-page menu-item-50021\"><a href=\"https://www.theguitarlesson.com/guitar-pro-tabs/n/\">N</a></li>\\n<li class=\"menu-item menu-item-type-post_type menu-item-object-page menu-item-50022\"><a href=\"https://www.theguitarlesson.com/guitar-pro-tabs/o/\">O</a></li>\\n<li class=\"menu-item menu-item-type-post_type menu-item-object-page menu-item-50023\"><a href=\"https://www.theguitarlesson.com/guitar-pro-tabs/p/\">P</a></li>\\n<li class=\"menu-item menu-item-type-post_type menu-item-object-page menu-item-50024\"><a href=\"https://www.theguitarlesson.com/guitar-pro-tabs/q/\">Q</a></li>\\n<li class=\"menu-item menu-item-type-post_type menu-item-object-page menu-item-50025\"><a href=\"https://www.theguitarlesson.com/guitar-pro-tabs/r/\">R</a></li>\\n<li class=\"menu-item menu-item-type-post_type menu-item-object-page menu-item-50026\"><a href=\"https://www.theguitarlesson.com/guitar-pro-tabs/s/\">S</a></li>\\n<li class=\"menu-item menu-item-type-post_type menu-item-object-page menu-item-50027\"><a href=\"https://www.theguitarlesson.com/guitar-pro-tabs/t/\">T</a></li>\\n<li class=\"menu-item menu-item-type-post_type menu-item-object-page menu-item-50028\"><a href=\"https://www.theguitarlesson.com/guitar-pro-tabs/u/\">U</a></li>\\n<li class=\"menu-item menu-item-type-post_type menu-item-object-page menu-item-50029\"><a href=\"https://www.theguitarlesson.com/guitar-pro-tabs/v/\">V</a></li>\\n<li class=\"menu-item menu-item-type-post_type menu-item-object-page menu-item-50030\"><a href=\"https://www.theguitarlesson.com/guitar-pro-tabs/w/\">W</a></li>\\n<li class=\"menu-item menu-item-type-post_type menu-item-object-page menu-item-50031\"><a href=\"https://www.theguitarlesson.com/guitar-pro-tabs/x/\">X</a></li>\\n<li class=\"menu-item menu-item-type-post_type menu-item-object-page menu-item-50032\"><a href=\"https://www.theguitarlesson.com/guitar-pro-tabs/y/\">Y</a></li>\\n<li class=\"menu-item menu-item-type-post_type menu-item-object-page menu-item-50033\"><a href=\"https://www.theguitarlesson.com/guitar-pro-tabs/z/\">Z</a></li>\\n</ul>\\t\\t</div>\\n\\t</nav><!-- #site-navigation -->\\n\\t</div><!-- data-section=\"mobile_navigation\" -->\\n<div class=\"site-header-item site-header-focus-item\" data-section=\"kadence_customizer_mobile_button\">\\n\\t<div class=\"mobile-header-button-wrap vs-logged-in-false\"><div class=\"mobile-header-button-inner-wrap\"><a href=\"https://dev.theguitarlesson.com/beginners-guide-learning-to-play-guitar/\" target=\"_self\" class=\"button mobile-header-button button-size-large button-style-filled\">Beginners Start Here</a></div></div></div><!-- data-section=\"mobile_button\" -->\\n\\t\\t\\t\\t\\t\\t\\t</div>\\n\\t\\t</div>\\n\\t</div>\\n\\t<script src=\"https://www.theguitarlesson.com/guitar-pro-tabs/wp-content/themes/kadence/assets/js/simplelightbox.min.js\" id=\"kadence-simplelightbox-js\" async></script>\\n<script src=\"https://www.theguitarlesson.com/guitar-pro-tabs/wp-content/themes/kadence/assets/js/lightbox-init.min.js\" id=\"kadence-lightbox-init-js\" async></script>\\n<script id=\"kadence-navigation-js-extra\">\\nvar kadenceConfig = {\"screenReader\":{\"expand\":\"Expand child menu\",\"expandOf\":\"Expand child menu of\",\"collapse\":\"Collapse child menu\",\"collapseOf\":\"Collapse child menu of\"},\"breakPoints\":{\"desktop\":\"1024\",\"tablet\":768},\"scrollOffset\":\"0\"};\\n</script>\\n<script src=\"https://www.theguitarlesson.com/guitar-pro-tabs/wp-content/themes/kadence/assets/js/navigation.min.js\" id=\"kadence-navigation-js\" async></script>\\n<script src=\"https://www.theguitarlesson.com/guitar-pro-tabs/wp-content/plugins/indeed-social-media/files/js/front_end_footer.js\" id=\"ism_front_end_f-js\"></script>\\n<script id=\"ism_front_end_f-js-after\">\\nvar ism_base_path=\\'https://www.theguitarlesson.com/guitar-pro-tabs\\';\\n</script>\\n\\t<div id=\"search-drawer\" class=\"popup-drawer popup-drawer-layout-fullwidth\" data-drawer-target-string=\"#search-drawer\"\\n\\t\\t\\t>\\n\\t\\t<div class=\"drawer-overlay\" data-drawer-target-string=\"#search-drawer\"></div>\\n\\t\\t<div class=\"drawer-inner\">\\n\\t\\t\\t<div class=\"drawer-header\">\\n\\t\\t\\t\\t<button class=\"search-toggle-close drawer-toggle\" aria-label=\"Close search\"  data-toggle-target=\"#search-drawer\" data-toggle-body-class=\"showing-popup-drawer-from-full\" aria-expanded=\"false\" data-set-focus=\".search-toggle-open\"\\n\\t\\t\\t\\t\\t\\t\\t>\\n\\t\\t\\t\\t\\t<span class=\"kadence-svg-iconset\"><svg class=\"kadence-svg-icon kadence-close-svg\" fill=\"currentColor\" version=\"1.1\" xmlns=\"http://www.w3.org/2000/svg\" width=\"24\" height=\"24\" viewBox=\"0 0 24 24\"><title>Toggle Menu Close</title><path d=\"M5.293 6.707l5.293 5.293-5.293 5.293c-0.391 0.391-0.391 1.024 0 1.414s1.024 0.391 1.414 0l5.293-5.293 5.293 5.293c0.391 0.391 1.024 0.391 1.414 0s0.391-1.024 0-1.414l-5.293-5.293 5.293-5.293c0.391-0.391 0.391-1.024 0-1.414s-1.024-0.391-1.414 0l-5.293 5.293-5.293-5.293c-0.391-0.391-1.024-0.391-1.414 0s-0.391 1.024 0 1.414z\"></path>\\n\\t\\t\\t\\t</svg></span>\\t\\t\\t\\t</button>\\n\\t\\t\\t</div>\\n\\t\\t\\t<div class=\"drawer-content\">\\n\\t\\t\\t\\t<form role=\"search\" method=\"get\" class=\"search-form\" action=\"https://www.theguitarlesson.com/guitar-pro-tabs/\">\\n\\t\\t\\t\\t<label>\\n\\t\\t\\t\\t\\t<span class=\"screen-reader-text\">Search for:</span>\\n\\t\\t\\t\\t\\t<input type=\"search\" class=\"search-field\" placeholder=\"Search &hellip;\" value=\"\" name=\"s\" />\\n\\t\\t\\t\\t</label>\\n\\t\\t\\t\\t<input type=\"submit\" class=\"search-submit\" value=\"Search\" />\\n\\t\\t\\t<div class=\"kadence-search-icon-wrap\"><span class=\"kadence-svg-iconset\"><svg aria-hidden=\"true\" class=\"kadence-svg-icon kadence-search-svg\" fill=\"currentColor\" version=\"1.1\" xmlns=\"http://www.w3.org/2000/svg\" width=\"26\" height=\"28\" viewBox=\"0 0 26 28\"><title>Search</title><path d=\"M18 13c0-3.859-3.141-7-7-7s-7 3.141-7 7 3.141 7 7 7 7-3.141 7-7zM26 26c0 1.094-0.906 2-2 2-0.531 0-1.047-0.219-1.406-0.594l-5.359-5.344c-1.828 1.266-4.016 1.937-6.234 1.937-6.078 0-11-4.922-11-11s4.922-11 11-11 11 4.922 11 11c0 2.219-0.672 4.406-1.937 6.234l5.359 5.359c0.359 0.359 0.578 0.875 0.578 1.406z\"></path>\\n\\t\\t\\t\\t</svg></span></div></form>\\t\\t\\t</div>\\n\\t\\t</div>\\n\\t</div>\\n\\t</body>\\n</html>\\n'\n",
            "['31 Minutos - Tema Central.gp3', '31 Minutos - Tema Central.gp3']\n",
            "https://www.theguitarlesson.com/guitar-pro-tabs/song-files/31 Minutos - Tema Central.gp3\n",
            "Tema_Central\n",
            "gp3\n",
            "\u001b[?1h\u001b=Error: The file '/content/midi/Tema_Central.mid' already exists.\n"
          ]
        }
      ]
    },
    {
      "cell_type": "code",
      "source": [
        "import os\n",
        "os.mkdir(\"/content/midi\")\n",
        "os.mkdir(\"/content/gp\")"
      ],
      "metadata": {
        "id": "ukAxH5mNvXue"
      },
      "execution_count": 1,
      "outputs": []
    },
    {
      "cell_type": "code",
      "source": [
        "# @title setup GuitarProToMidi\n",
        "# https://github.com/rageagainsthepc/GuitarPro-to-Midi\n",
        "import requests\n",
        "\n",
        "url = 'https://github.com/rageagainsthepc/GuitarPro-to-Midi/releases/download/v0.1.6/guitarprotomidi_linux-x64.zip'\n",
        "res = requests.get(url)\n",
        "# print(out)\n",
        "with open(\"guitarprotomidi_linux.zip\", \"wb\") as f:\n",
        "    f.write(res.content)\n",
        "!unzip guitarprotomidi_linux.zip\n",
        "\n",
        "# import sys\n",
        "# # sys.path.append('/content/OpenVoice/openvoice')\n",
        "# sys.path.append('/content/GuitarProToMidi')\n",
        "# sys.path.append('/content')\n",
        "\n",
        "!chmod 755 /content/GuitarProToMidi\n",
        "\n",
        "\n",
        "# !/content/GuitarProToMidi /content/Judith.gp4\n",
        "# !/content/GuitarProToMidi /content/Judith.gp4 -o /content/out.mid\n",
        "\n",
        "# !/content/GuitarProToMidi /content/{Judith}.gp4 -o /content/midi/{out}.mid\n",
        "# !/content/GuitarProToMidi -h\n"
      ],
      "metadata": {
        "cellView": "form",
        "id": "Wzn_JeINVFdb",
        "colab": {
          "base_uri": "https://localhost:8080/"
        },
        "outputId": "2580a2db-81d2-458b-d3bc-dab6d4161080"
      },
      "execution_count": 2,
      "outputs": [
        {
          "output_type": "stream",
          "name": "stdout",
          "text": [
            "Archive:  guitarprotomidi_linux.zip\n",
            "  inflating: GuitarProToMidi         \n"
          ]
        }
      ]
    },
    {
      "cell_type": "code",
      "source": [
        "# @title as func\n",
        "import requests\n",
        "from urllib.parse import unquote\n",
        "import re\n",
        "\n",
        "def run_cat(c):\n",
        "    cat_url = 'https://www.theguitarlesson.com/guitar-pro-tabs/'+c\n",
        "    if c=='0-9-songs': c='0-9'\n",
        "    out = requests.get(cat_url).content\n",
        "    pro = unquote(out)\n",
        "    # print(cat_url)\n",
        "    pattern = r\"(?<=<a href=\\\"https://www.theguitarlesson.com/guitar-pro-tabs/category/{}/)(?:(?!\\\").)*(?=\\\")\".format(c)\n",
        "    m = re.findall(pattern, pro)\n",
        "    # print(m)\n",
        "    art_urls = ['https://www.theguitarlesson.com/guitar-pro-tabs/category/'+c+'/'+mm for mm in m]\n",
        "    return art_urls\n",
        "\n",
        "\n",
        "# url = 'https://www.theguitarlesson.com/guitar-pro-tabs/category/a/a-perfect-circle/'\n",
        "\n",
        "def get_song_urls(url):\n",
        "    # print('get_song_urls',url)\n",
        "    out = requests.get(url).content\n",
        "    pro = unquote(out)\n",
        "    pattern = r\"(?<=>)(?:(?!<).)*(?=</a>\\n<a class=\\\"next page-numbers\\\")\".format(c)\n",
        "    m = re.findall(pattern, pro)\n",
        "    # print('get_song_urls',m)\n",
        "    if len(m)==0:\n",
        "        out = requests.get(url).content\n",
        "        pro = unquote(out)\n",
        "        pattern = r\"(?<=class=\\\"entry-title\\\"><a href=\\\"https://www.theguitarlesson.com/guitar-pro-tabs/)(?:(?!\\\").)*(?=\\\")\".format(c)\n",
        "        song_urls = re.findall(pattern, pro)\n",
        "    else:\n",
        "        num_pages=int(m[0])\n",
        "        song_urls=[]\n",
        "        for pg in range(1,num_pages+1):\n",
        "            pg_url = url+'page/'+str(pg)\n",
        "            out = requests.get(pg_url).content\n",
        "            pro = unquote(out)\n",
        "            pattern = r\"(?<=class=\\\"entry-title\\\"><a href=\\\"https://www.theguitarlesson.com/guitar-pro-tabs/)(?:(?!\\\").)*(?=\\\")\".format(c)\n",
        "            m = re.findall(pattern, pro)\n",
        "            song_urls+=m\n",
        "    return song_urls\n",
        "\n",
        "# url = 'https://www.theguitarlesson.com/guitar-pro-tabs/'\n",
        "# print([url+x for x in song_urls])\n",
        "\n",
        "# url = 'https://www.theguitarlesson.com/guitar-pro-tabs/c/connells-the/74-75-connells-the/'\n",
        "\n",
        "def clean_name(m):\n",
        "    o=m.find('(')\n",
        "    if o>0:\n",
        "        p=m.find(')')\n",
        "        brac=m[o+1:p]\n",
        "        m=brac+' '+m[:o-1]+m[p+1:]\n",
        "    m=re.sub(r'[^\\w]', ' ', m)\n",
        "    m=m.replace(',', '').replace('.', '').replace(' - ','-').replace(' – ','-').replace('  ', ' ').replace('  ', ' ').replace('  ', ' ').replace(' ', '_')\n",
        "    if m[-1]=='_': m=m[:-1]\n",
        "    return m\n",
        "\n",
        "def clean_all(m):\n",
        "    o=m.find(' – ')\n",
        "    if o>0: artist,tgp=m.split(' – ')\n",
        "    else:\n",
        "        o=m.find(' - ')\n",
        "        if o>0: artist,tgp=m.split(' - ')\n",
        "    title,gpnum = tgp[:-4],tgp[-3:]\n",
        "    title = re.sub(r'[^\\w]', ' ', title)\n",
        "    title=title.replace(',', '').replace('.', '').replace(' - ','-').replace(' – ','-').replace('  ', ' ').replace('  ', ' ').replace('  ', ' ').replace(' ', '_')\n",
        "    if title[-1]=='_': title=title[:-1]\n",
        "    artist = clean_name(artist)\n",
        "    return title,artist,gpnum\n",
        "\n",
        "# title,artist,gpnum = clean_all(m)\n",
        "\n",
        "def url_to_midi(url):\n",
        "    pro = requests.get(url).content\n",
        "    pro = unquote(pro)\n",
        "    # pattern = r\"(?<=File Name:</strong> <a href=\\\"https://www.theguitarlesson.com/guitar-pro-tabs/song-files/)(?:(?!\\\").)*(?=\\\")\"\n",
        "    pattern = r\"(?<=<a href=\\\"https://www.theguitarlesson.com/guitar-pro-tabs/song-files/)(?:(?!\\\").)*(?=\\\")\"\n",
        "    m = re.findall(pattern, pro)\n",
        "    try:\n",
        "        if len(m)>1: m=max(m)\n",
        "        else: m=m[0]\n",
        "        title,artist,gpnum = clean_all(m)\n",
        "        name = title+'-'+artist\n",
        "        # name,gpnum = clean_name(m)\n",
        "        gp_url = \"https://www.theguitarlesson.com/guitar-pro-tabs/song-files/\"+m\n",
        "        res = requests.get(gp_url)\n",
        "        with open('/content/gp/'+name+'.'+gpnum, \"wb\") as f:\n",
        "            f.write(res.content)\n",
        "        !/content/GuitarProToMidi /content/gp/{name}.{gpnum} -o /content/midi/{name}.mid\n",
        "    except:\n",
        "        print('url_to_midi error', url)\n",
        "        pass\n",
        "\n",
        "from concurrent.futures import ThreadPoolExecutor\n",
        "cat = ['0-9-songs'] + [chr(i) for i in range(97,123)] # 97 a # 122 z\n",
        "id=2*0\n",
        "for c in cat[:2]:\n",
        "    art_urls = run_cat(c)\n",
        "    for art_url in art_urls:\n",
        "        song_urls = get_song_urls(art_url)\n",
        "        # print('song_urls',song_urls)\n",
        "        song_urls2 = ['https://www.theguitarlesson.com/guitar-pro-tabs/'+x for x in song_urls]\n",
        "        e = ThreadPoolExecutor(1024) # 21sec\n",
        "        for song_url in song_urls2:\n",
        "            e.submit(url_to_midi, song_url)\n",
        "            # url_to_midi(song_url)\n",
        "\n"
      ],
      "metadata": {
        "id": "qRPmLvcAsE6L",
        "colab": {
          "base_uri": "https://localhost:8080/"
        },
        "outputId": "d884f021-62a6-47ba-fb90-94436fb44c7a"
      },
      "execution_count": null,
      "outputs": [
        {
          "output_type": "stream",
          "name": "stdout",
          "text": [
            "\u001b[?1h\u001b=Error: Index was out of range. Must be non-negative and less than the size of the collection. (Parameter 'index')\n",
            "\u001b[?1h\u001b=Error: Unhandled value. (Parameter 'harmonicFret')\n",
            "Actual value was 0.\n",
            "\u001b[?1h\u001b=Error: The file '/content/midi/Money_Money_Money-Abba.mid' already exists.\n"
          ]
        }
      ]
    },
    {
      "cell_type": "code",
      "source": [
        "%cd /content/midi\n",
        "!zip -r /content/midi.zip /content/midi\n"
      ],
      "metadata": {
        "id": "f-8NKodwuwt5"
      },
      "execution_count": null,
      "outputs": []
    },
    {
      "cell_type": "code",
      "source": [
        "# @title clean\n",
        "m=' Connells ` Jr. (The) – 74-75` (2) .gp3'\n",
        "# m='1349 – Deathmarch (2).gp4'\n",
        "# name,gpnum = m.split('.')\n",
        "def clean_name(m):\n",
        "    o=m.find('(')\n",
        "    if o>0:\n",
        "        p=m.find(')')\n",
        "        brac=m[o+1:p]\n",
        "        m=brac+' '+m[:o-1]+m[p+1:]\n",
        "    m=re.sub(r'[^\\w]', ' ', m)\n",
        "    m=m.replace(',', '').replace('.', '').replace(' - ','-').replace(' – ','-').replace('  ', ' ').replace('  ', ' ').replace('  ', ' ').replace(' ', '_')\n",
        "    if m[-1]=='_': m=m[:-1]\n",
        "    return m\n",
        "\n",
        "def clean_all(m):\n",
        "    o=m.find(' – ')\n",
        "    if o>0: artist,tgp=m.split(' – ')\n",
        "    else:\n",
        "        o=m.find(' - ')\n",
        "        if o>0: artist,tgp=m.split(' - ')\n",
        "    title,gpnum = tgp[:-4],tgp[-3:]\n",
        "    title = re.sub(r'[^\\w]', ' ', title)\n",
        "    title=title.replace(',', '').replace('.', '').replace(' - ','-').replace(' – ','-').replace('  ', ' ').replace('  ', ' ').replace('  ', ' ').replace(' ', '_')\n",
        "    if title[-1]=='_': title=title[:-1]\n",
        "    artist = clean_name(artist)\n",
        "    return title,artist,gpnum\n",
        "\n",
        "\n",
        "title,artist,gpnum = clean_all(m)\n",
        "print(title)\n",
        "print(artist)\n",
        "print(gpnum)\n",
        "name = title+'-'+artist\n",
        "print(name)"
      ],
      "metadata": {
        "colab": {
          "base_uri": "https://localhost:8080/"
        },
        "cellView": "form",
        "id": "htBnefxSCCzZ",
        "outputId": "5b57280e-cde2-4ebd-b452-788b256d1b04"
      },
      "execution_count": null,
      "outputs": [
        {
          "output_type": "stream",
          "name": "stdout",
          "text": [
            "74_75_2\n",
            "The_Connells_Jr\n",
            "gp3\n",
            "74_75_2-The_Connells_Jr\n"
          ]
        }
      ]
    },
    {
      "cell_type": "code",
      "source": [
        "# @title categories\n",
        "# cat = ['0-9-songs'] + [chr(i) for i in range(97,123)] # 97 a # 122 z\n",
        "# print(cat)\n",
        "\n",
        "# for c in cat:\n",
        "#     cat_url = 'https://www.theguitarlesson.com/guitar-pro-tabs/'+c\n",
        "#     break\n",
        "\n",
        "cat_url = 'https://www.theguitarlesson.com/guitar-pro-tabs/0-9-songs'\n",
        "# cat_url = 'https://www.theguitarlesson.com/guitar-pro-tabs/r'\n",
        "out = requests.get(cat_url).content\n",
        "# print(out)\n",
        "# <a href=\"https://www.theguitarlesson.com/guitar-pro-tabs/category/r/rem/\">R.E.M</a> (39)<br />\\n\\t\n",
        "\n",
        "# c='r'\n",
        "c='0-9-songs'\n",
        "if c=='0-9-songs': c='0-9'\n",
        "pro = unquote(out)\n",
        "pattern = r\"(?<=<a href=\\\"https://www.theguitarlesson.com/guitar-pro-tabs/category/{}/)(?:(?!\\\").)*(?=\\\")\".format(c)\n",
        "m = re.findall(pattern, pro)\n",
        "print(m)\n",
        "cat_url\n",
        "# https://www.theguitarlesson.com/guitar-pro-tabs/category/r/rem/\n",
        "\n",
        "# art_urls=[]\n",
        "\n",
        "def run_cat(c):\n",
        "    cat_url = 'https://www.theguitarlesson.com/guitar-pro-tabs/'+c\n",
        "    if c=='0-9-songs': c='0-9'\n",
        "    out = requests.get(cat_url).content\n",
        "    pro = unquote(out)\n",
        "    # print(cat_url)\n",
        "    pattern = r\"(?<=<a href=\\\"https://www.theguitarlesson.com/guitar-pro-tabs/category/{}/)(?:(?!\\\").)*(?=\\\")\".format(c)\n",
        "    m = re.findall(pattern, pro)\n",
        "    # print(m)\n",
        "    art_urls = ['https://www.theguitarlesson.com/guitar-pro-tabs/category/'+c+'/'+mm for mm in m]\n",
        "    return art_urls\n",
        "# https://www.theguitarlesson.com/guitar-pro-tabs/category/0-9/1349/\n",
        "c='0-9-songs'\n",
        "art_urls = run_cat(c)\n",
        "print(art_urls)\n"
      ],
      "metadata": {
        "colab": {
          "base_uri": "https://localhost:8080/"
        },
        "cellView": "form",
        "id": "KyH0wL4-AZl6",
        "outputId": "56d444e0-f278-45eb-90f5-cf777da1d36d"
      },
      "execution_count": null,
      "outputs": [
        {
          "output_type": "stream",
          "name": "stdout",
          "text": [
            "['1349/', '311/', '1-the/', '1-god/', '10-years/', '12-stones/', '1974-ad-pahilo-junema/', '1kempfi1/', '1st-man-for-her/', '2-unlimited/', '20-70/', '23-ph/', '28-days/', '2pac/', '2wo/', '3-doors-down/', '3-inches-of-blood/', '30-seconds-to-mars/', '301-izquierda/', '31-minutos/', '36-crazyfists/', '38-special/', '3rd-strike/', '4-non-blondes/', '4-skins-the/', '4d-sports-driving/', '4lyn/', '5-6-7-8s-the/', '50-cent/', '500-and-china-blue/', '59-times-the-pain/', '5nizza/', '5th-prokurator/', '6-voltios/', '69-eyes/', '69ers-the/', '704-exercises-for-guitar-1/', '7b/', '8-foot-sativa/', '88-fingers-louie/', '8forty8/', '8stops7/']\n",
            "['https://www.theguitarlesson.com/guitar-pro-tabs/category/0-9/1349/', 'https://www.theguitarlesson.com/guitar-pro-tabs/category/0-9/311/', 'https://www.theguitarlesson.com/guitar-pro-tabs/category/0-9/1-the/', 'https://www.theguitarlesson.com/guitar-pro-tabs/category/0-9/1-god/', 'https://www.theguitarlesson.com/guitar-pro-tabs/category/0-9/10-years/', 'https://www.theguitarlesson.com/guitar-pro-tabs/category/0-9/12-stones/', 'https://www.theguitarlesson.com/guitar-pro-tabs/category/0-9/1974-ad-pahilo-junema/', 'https://www.theguitarlesson.com/guitar-pro-tabs/category/0-9/1kempfi1/', 'https://www.theguitarlesson.com/guitar-pro-tabs/category/0-9/1st-man-for-her/', 'https://www.theguitarlesson.com/guitar-pro-tabs/category/0-9/2-unlimited/', 'https://www.theguitarlesson.com/guitar-pro-tabs/category/0-9/20-70/', 'https://www.theguitarlesson.com/guitar-pro-tabs/category/0-9/23-ph/', 'https://www.theguitarlesson.com/guitar-pro-tabs/category/0-9/28-days/', 'https://www.theguitarlesson.com/guitar-pro-tabs/category/0-9/2pac/', 'https://www.theguitarlesson.com/guitar-pro-tabs/category/0-9/2wo/', 'https://www.theguitarlesson.com/guitar-pro-tabs/category/0-9/3-doors-down/', 'https://www.theguitarlesson.com/guitar-pro-tabs/category/0-9/3-inches-of-blood/', 'https://www.theguitarlesson.com/guitar-pro-tabs/category/0-9/30-seconds-to-mars/', 'https://www.theguitarlesson.com/guitar-pro-tabs/category/0-9/301-izquierda/', 'https://www.theguitarlesson.com/guitar-pro-tabs/category/0-9/31-minutos/', 'https://www.theguitarlesson.com/guitar-pro-tabs/category/0-9/36-crazyfists/', 'https://www.theguitarlesson.com/guitar-pro-tabs/category/0-9/38-special/', 'https://www.theguitarlesson.com/guitar-pro-tabs/category/0-9/3rd-strike/', 'https://www.theguitarlesson.com/guitar-pro-tabs/category/0-9/4-non-blondes/', 'https://www.theguitarlesson.com/guitar-pro-tabs/category/0-9/4-skins-the/', 'https://www.theguitarlesson.com/guitar-pro-tabs/category/0-9/4d-sports-driving/', 'https://www.theguitarlesson.com/guitar-pro-tabs/category/0-9/4lyn/', 'https://www.theguitarlesson.com/guitar-pro-tabs/category/0-9/5-6-7-8s-the/', 'https://www.theguitarlesson.com/guitar-pro-tabs/category/0-9/50-cent/', 'https://www.theguitarlesson.com/guitar-pro-tabs/category/0-9/500-and-china-blue/', 'https://www.theguitarlesson.com/guitar-pro-tabs/category/0-9/59-times-the-pain/', 'https://www.theguitarlesson.com/guitar-pro-tabs/category/0-9/5nizza/', 'https://www.theguitarlesson.com/guitar-pro-tabs/category/0-9/5th-prokurator/', 'https://www.theguitarlesson.com/guitar-pro-tabs/category/0-9/6-voltios/', 'https://www.theguitarlesson.com/guitar-pro-tabs/category/0-9/69-eyes/', 'https://www.theguitarlesson.com/guitar-pro-tabs/category/0-9/69ers-the/', 'https://www.theguitarlesson.com/guitar-pro-tabs/category/0-9/704-exercises-for-guitar-1/', 'https://www.theguitarlesson.com/guitar-pro-tabs/category/0-9/7b/', 'https://www.theguitarlesson.com/guitar-pro-tabs/category/0-9/8-foot-sativa/', 'https://www.theguitarlesson.com/guitar-pro-tabs/category/0-9/88-fingers-louie/', 'https://www.theguitarlesson.com/guitar-pro-tabs/category/0-9/8forty8/', 'https://www.theguitarlesson.com/guitar-pro-tabs/category/0-9/8stops7/']\n"
          ]
        }
      ]
    },
    {
      "cell_type": "code",
      "source": [
        "# @title song urls\n",
        "# https://www.theguitarlesson.com/guitar-pro-tabs/category/a/a-perfect-circle/\n",
        "# url = 'https://www.theguitarlesson.com/guitar-pro-tabs/category/a/a-perfect-circle'\n",
        "# url = 'https://www.theguitarlesson.com/guitar-pro-tabs/category/a/a-perfect-circle/'\n",
        "url='https://www.theguitarlesson.com/guitar-pro-tabs/category/0-9/1349/'\n",
        "# out = requests.get(url).content\n",
        "# print(out)\n",
        "# <!-- .entry-taxonomies -->\\n\\t\\t<h2 class=\"entry-title\"><a href=\"https://www.theguitarlesson.com/guitar-pro-tabs/a/a-perfect-circle/judith-a-perfect-circle/\" rel=\"bookmark\">Judith &#8211; A Perfect Circle</a></h2></header><!-- .entry-header -->\\n<footer class=\"entry-footer\">\\n\\\n",
        "\n",
        "# <p class=\"infinite-scroll-last\">End of content</p><p class=\"infinite-scroll-error\">End of content</p></div>\\n\\t<nav class=\"navigation pagination\" aria-label=\"Page navigation\">\\n\\t\\t<h2 class=\"screen-reader-text\">Page navigation</h2>\\n\\t\\t<div class=\"nav-links\"><span aria-current=\"page\" class=\"page-numbers current\">1</span>\\n<a class=\"page-numbers\" href=\"https://www.theguitarlesson.com/guitar-pro-tabs/category/a/a-perfect-circle/page/2/\">2</a>\\n<a class=\"page-numbers\" href=\"https://www.theguitarlesson.com/guitar-pro-tabs/category/a/a-perfect-circle/page/3/\">3</a>\\n<span class=\"page-numbers dots\">\n",
        "\n",
        "\n",
        "# class=\"entry-title\"><a href=\"https://www.theguitarlesson.com/guitar-pro-tabs\n",
        "\n",
        "pro = unquote(out)\n",
        "pattern = r\"(?<=>)(?:(?!<).)*(?=</a>\\n<a class=\\\"next page-numbers\\\")\".format(c)\n",
        "m = re.findall(pattern, pro)\n",
        "# > </a>\\n<a class=\"next page-numbers\"\n",
        "print(m)\n",
        "\n",
        "if len(m)==0:\n",
        "    out = requests.get(url).content\n",
        "    pro = unquote(out)\n",
        "    pattern = r\"(?<=class=\\\"entry-title\\\"><a href=\\\"https://www.theguitarlesson.com/guitar-pro-tabs/)(?:(?!\\\").)*(?=\\\")\".format(c)\n",
        "    return re.findall(pattern, pro)\n",
        "else:\n",
        "    num_pages=int(m[0])\n",
        "    song_urls=[]\n",
        "    for pg in range(1,num_pages+1):\n",
        "        pg_url = url+'page/'+str(pg)\n",
        "        out = requests.get(pg_url).content\n",
        "        pro = unquote(out)\n",
        "        pattern = r\"(?<=class=\\\"entry-title\\\"><a href=\\\"https://www.theguitarlesson.com/guitar-pro-tabs/)(?:(?!\\\").)*(?=\\\")\".format(c)\n",
        "        m = re.findall(pattern, pro)\n",
        "        song_urls+=m\n",
        "return song_urls\n",
        "\n",
        "song_urls=[]\n",
        "for pg in range(1,num_pages+1):\n",
        "    pg_url = 'https://www.theguitarlesson.com/guitar-pro-tabs/category/a/a-perfect-circle/'+'page/'+str(pg)\n",
        "    # print(pg_url)\n",
        "    out = requests.get(pg_url).content\n",
        "    # print(out)\n",
        "    pro = unquote(out)\n",
        "    pattern = r\"(?<=class=\\\"entry-title\\\"><a href=\\\"https://www.theguitarlesson.com/guitar-pro-tabs/)(?:(?!\\\").)*(?=\\\")\".format(c)\n",
        "    m = re.findall(pattern, pro)\n",
        "    print(m)\n",
        "    song_urls+=m\n",
        "print(song_urls)\n",
        "print(len(song_urls))\n",
        "# 46\n",
        "\n",
        "\n",
        "# for a_url in art_urls:\n",
        "url = 'https://www.theguitarlesson.com/guitar-pro-tabs/'\n",
        "print([url+x for x in song_urls])\n"
      ],
      "metadata": {
        "cellView": "form",
        "id": "pGRjX8weQtOt"
      },
      "execution_count": null,
      "outputs": []
    },
    {
      "cell_type": "code",
      "source": [
        "from pretty_midi import PrettyMIDI\n",
        "\n",
        "prompt = PrettyMIDI(\"/content/midi/74-75.mid\")\n",
        "# print(prompt)\n",
        "\n",
        "# print(prompt.instruments)\n",
        "# print(prompt.instruments[1].notes)\n",
        "print(prompt.instruments[1].pitch_bends)\n",
        "# print(prompt.notes)\n",
        "# prettymidi > instruments > notes(start, end, pitch, velocity) + pitch_bends\n"
      ],
      "metadata": {
        "colab": {
          "base_uri": "https://localhost:8080/"
        },
        "id": "BpkqtBea3Hsd",
        "outputId": "1cebbc5c-1658-4f5a-b8de-55384ce1bc7c"
      },
      "execution_count": null,
      "outputs": [
        {
          "output_type": "stream",
          "name": "stdout",
          "text": [
            "[]\n"
          ]
        }
      ]
    },
    {
      "cell_type": "code",
      "source": [
        "# @title merge_midi\n",
        "\n",
        "def merge_midi(jam, q=1):\n",
        "    # q = 1: with pitch bend. q = 0: without pitch bend.\n",
        "    midi = pretty_midi.PrettyMIDI()\n",
        "    annos = jam.search(namespace='note_midi')\n",
        "    if len(annos) == 0:\n",
        "        annos = jam.search(namespace='pitch_midi')\n",
        "    for anno in annos:\n",
        "        midi_ch = pretty_midi.Instrument(program=25) # https://en.wikipedia.org/wiki/General_MIDI\n",
        "        for note in anno:\n",
        "            # print(note)\n",
        "            pitch = int(round(note.value))\n",
        "            bend_amount = int(round((note.value - pitch) * 4096))\n",
        "            st = note.time\n",
        "            dur = note.duration\n",
        "            n = pretty_midi.Note(velocity=100 + np.random.choice(range(-5, 5)), pitch=pitch, start=st, end=st+dur)\n",
        "            # n = pretty_midi.Note(velocity= , pitch=pitch, start=st, end=st+dur)\n",
        "            pb = pretty_midi.PitchBend(pitch=bend_amount * q, time=st)\n",
        "            midi_ch.notes.append(n)\n",
        "            midi_ch.pitch_bends.append(pb)\n",
        "        if len(midi_ch.notes) != 0:\n",
        "            midi.instruments.append(midi_ch)\n",
        "    return midi\n",
        "\n",
        "# prompt.instruments[0].notes.append(prompt.instruments[1].notes)\n",
        "\n"
      ],
      "metadata": {
        "id": "-viHfyoa6sH1"
      },
      "execution_count": null,
      "outputs": []
    },
    {
      "cell_type": "code",
      "source": [
        "\n",
        "# https://www.guitar-pro.com/tabs/genres\n",
        "# https://www.guitar-pro.com/tabs/genres/2-pop\n",
        "\n",
        "\n"
      ],
      "metadata": {
        "id": "Oux5X5Y_b8pE"
      },
      "execution_count": null,
      "outputs": []
    }
  ]
}