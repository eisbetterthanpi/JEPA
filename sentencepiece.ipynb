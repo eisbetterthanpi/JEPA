{
  "nbformat": 4,
  "nbformat_minor": 0,
  "metadata": {
    "colab": {
      "provenance": [],
      "authorship_tag": "ABX9TyOwF6j2uldunK5Vj+JdZyOP",
      "include_colab_link": true
    },
    "kernelspec": {
      "name": "python3",
      "display_name": "Python 3"
    },
    "language_info": {
      "name": "python"
    }
  },
  "cells": [
    {
      "cell_type": "markdown",
      "metadata": {
        "id": "view-in-github",
        "colab_type": "text"
      },
      "source": [
        "<a href=\"https://colab.research.google.com/github/eisbetterthanpi/JEPA/blob/main/sentencepiece.ipynb\" target=\"_parent\"><img src=\"https://colab.research.google.com/assets/colab-badge.svg\" alt=\"Open In Colab\"/></a>"
      ]
    },
    {
      "cell_type": "markdown",
      "source": [
        "# sentencepiece"
      ],
      "metadata": {
        "id": "ZjnklcywU70I"
      }
    },
    {
      "cell_type": "code",
      "source": [
        "!pip install sentencepiece\n",
        "# https://github.com/kutvonenaki/cc100-sentencepiece\n",
        "!git clone https://github.com/kutvonenaki/cc100-sentencepiece.git\n"
      ],
      "metadata": {
        "id": "J7PBVwdIHI3m"
      },
      "execution_count": null,
      "outputs": []
    },
    {
      "cell_type": "code",
      "execution_count": null,
      "metadata": {
        "colab": {
          "base_uri": "https://localhost:8080/"
        },
        "id": "xY1F1gXnHHpg",
        "outputId": "24f6fe72-3166-4eac-90ee-f90ec9bc3f22"
      },
      "outputs": [
        {
          "output_type": "stream",
          "name": "stdout",
          "text": [
            "[16, 18, 80, 7, 223, 405, 214, 112, 158, 33, 73, 863, 24, 183, 203, 390, 14, 517, 39, 290, 10, 95, 44]\n",
            "yes tokenizers would be peferable over traditional cat dog\n"
          ]
        }
      ],
      "source": [
        "import sentencepiece as spm\n",
        "\n",
        "# ​cc100_en_vocab_8000.model # cc100_en_vocab_8000.vocab\n",
        "modelpath=\"/content/cc100-sentencepiece/trained_tokenizers/cc100_en_vocab_8000.model\"\n",
        "sp = spm.SentencePieceProcessor(model_file=modelpath)\n",
        "# text=\"ayo boy whts'upp? ;) 998\"\n",
        "text=\"yes tokenizers would be peferable, over traditional cat! dog?\"\n",
        "encoded = sp.encode(text)\n",
        "print(encoded)\n",
        "decoded = sp.decode(encoded)\n",
        "print(decoded)\n"
      ]
    }
  ]
}